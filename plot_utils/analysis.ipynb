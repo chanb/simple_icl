{
 "cells": [
  {
   "cell_type": "code",
   "execution_count": 1,
   "metadata": {},
   "outputs": [],
   "source": [
    "import dill"
   ]
  },
  {
   "cell_type": "code",
   "execution_count": 7,
   "metadata": {},
   "outputs": [],
   "source": [
    "data = dill.load(\n",
    "    open(\"/Users/chanb/research/ualberta/icl/scratch/results/synthetic-ic_predictor/p_high_0.5-dataset_size_64-p_relevant_context_0.5-seed_0-09-15-24_20_58_25-4d5603f5-2e4c-451a-ba6d-3dcf2da3a9df/models/10000.dill\", \"rb\")\n",
    ")"
   ]
  },
  {
   "cell_type": "code",
   "execution_count": 8,
   "metadata": {},
   "outputs": [
    {
     "data": {
      "text/plain": [
       "{'model': {'ic_predictor': {'params': {'log_temp': Array(0., dtype=float32)}}},\n",
       " 'opt_state': (InjectStatefulHyperparamsState(count=Array(10000, dtype=int32), hyperparams={'b1': Array(0.9, dtype=float32), 'b2': Array(0.999, dtype=float32), 'eps': Array(1.e-08, dtype=float32), 'eps_root': Array(0., dtype=float32), 'learning_rate': Array(0.0003, dtype=float32)}, hyperparams_states={'learning_rate': WrappedScheduleState(count=Array(10000, dtype=int32))}, inner_state=(ScaleByAdamState(count=Array(10000, dtype=int32), mu={'ic_predictor': {'params': {'log_temp': Array(0., dtype=float32)}}}, nu={'ic_predictor': {'params': {'log_temp': Array(0., dtype=float32)}}}), EmptyState())),)}"
      ]
     },
     "execution_count": 8,
     "metadata": {},
     "output_type": "execute_result"
    }
   ],
   "source": [
    "data"
   ]
  },
  {
   "cell_type": "code",
   "execution_count": null,
   "metadata": {},
   "outputs": [],
   "source": []
  }
 ],
 "metadata": {
  "kernelspec": {
   "display_name": ".venv",
   "language": "python",
   "name": "python3"
  },
  "language_info": {
   "codemirror_mode": {
    "name": "ipython",
    "version": 3
   },
   "file_extension": ".py",
   "mimetype": "text/x-python",
   "name": "python",
   "nbconvert_exporter": "python",
   "pygments_lexer": "ipython3",
   "version": "3.10.14"
  }
 },
 "nbformat": 4,
 "nbformat_minor": 2
}
