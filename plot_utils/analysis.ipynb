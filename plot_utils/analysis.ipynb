{
 "cells": [
  {
   "cell_type": "code",
   "execution_count": 1,
   "metadata": {},
   "outputs": [],
   "source": [
    "import sys\n",
    "\n",
    "sys.path.insert(0, \"..\")\n",
    "sys.path.insert(0, \"../src\")"
   ]
  },
  {
   "cell_type": "code",
   "execution_count": 2,
   "metadata": {},
   "outputs": [],
   "source": [
    "from src.constants import *\n",
    "from src.models import SimpleICL\n",
    "from src.dataset import get_data_loader\n",
    "from src.utils import iterate_models, load_config, parse_dict\n",
    "\n",
    "import dill\n",
    "import jax\n",
    "import jax.numpy as jnp\n",
    "import jax.random as jrandom\n",
    "import numpy as np\n",
    "import os"
   ]
  },
  {
   "cell_type": "code",
   "execution_count": 3,
   "metadata": {},
   "outputs": [],
   "source": [
    "# base_path = \"/Users/chanb/research/ualberta/icl/cc_results/paper_experiments/simple_icl_models/\"\n",
    "# alpha_path = os.path.join(\n",
    "#     base_path,\n",
    "#     \"alpha\",\n",
    "#     # lr 1e-5\n",
    "#     # \"dataset_size_1024-p_relevant_context_0.9-num_low_prob_classes_45-seed_0-10-05-24_11_53_02-a0b2cf45-ac18-40c0-a721-e345192e236b\"\n",
    "#     # lr 3e-4\n",
    "#     \"dataset_size_1024-p_relevant_context_0.9-num_low_prob_classes_45-seed_0-10-04-24_09_03_44-b012b211-2c20-4dab-a101-0007e39d152e\"\n",
    "# )\n",
    "\n",
    "# ic_path = os.path.join(\n",
    "#     base_path,\n",
    "#     \"ic\",\n",
    "#     \"dataset_size_1024-p_relevant_context_0.9-num_low_prob_classes_45-seed_0-10-03-24_18_15_13-8b7969cc-ae13-4aee-a69f-fb81544f8c3b/models/1000000.dill\"\n",
    "# )\n",
    "\n",
    "# iw_path = os.path.join(\n",
    "#     base_path,\n",
    "#     \"iw\",\n",
    "#     \"dataset_size_1024-p_relevant_context_0.9-num_low_prob_classes_45-seed_0-10-03-24_17_49_12-986a33eb-d0dc-4283-a6fc-5072a98c886a/models/1000000.dill\"\n",
    "# )\n",
    "\n",
    "alpha_path = \"/Users/chanb/research/ualberta/icl/cc_results/paper_experiments/simple_icl_models/dataset_size_1024-p_relevant_context_0.9-num_low_prob_classes_45-seed_0-10-06-24_16_14_02-be34d5b6-3315-4102-ad0e-7dee7666e60e/\"\n",
    "iw_path = ic_path = None"
   ]
  },
  {
   "cell_type": "code",
   "execution_count": 4,
   "metadata": {},
   "outputs": [],
   "source": [
    "config_dict, config = load_config(alpha_path)\n",
    "config_dict[\"num_workers\"] = 1\n",
    "config_dict[\"dataset_kwargs\"][\"train\"] = False\n",
    "config = parse_dict(config_dict)"
   ]
  },
  {
   "cell_type": "code",
   "execution_count": null,
   "metadata": {},
   "outputs": [],
   "source": [
    "config"
   ]
  },
  {
   "cell_type": "code",
   "execution_count": null,
   "metadata": {},
   "outputs": [],
   "source": [
    "train_ds, train_dataset = get_data_loader(\n",
    "    config,\n",
    ")"
   ]
  },
  {
   "cell_type": "code",
   "execution_count": 7,
   "metadata": {},
   "outputs": [],
   "source": [
    "batch = next(train_ds)"
   ]
  },
  {
   "cell_type": "code",
   "execution_count": 8,
   "metadata": {},
   "outputs": [],
   "source": [
    "model = SimpleICL(output_dim=50, num_contexts=1, load_iw=iw_path, load_ic=ic_path)"
   ]
  },
  {
   "cell_type": "code",
   "execution_count": 9,
   "metadata": {},
   "outputs": [],
   "source": [
    "params = model.init(\n",
    "    jrandom.PRNGKey(config.seeds.learner_seed),\n",
    "    train_dataset.input_space,\n",
    "    train_dataset.output_space,\n",
    ")"
   ]
  },
  {
   "cell_type": "code",
   "execution_count": 10,
   "metadata": {},
   "outputs": [],
   "source": [
    "alpha_params = dill.load(open(\n",
    "    os.path.join(alpha_path, \"models\", \"1000000.dill\"),\n",
    "    \"rb\",\n",
    "))"
   ]
  },
  {
   "cell_type": "code",
   "execution_count": 11,
   "metadata": {},
   "outputs": [],
   "source": [
    "# params[\"alpha\"] = alpha_params[\"model\"][\"alpha\"]\n",
    "params = alpha_params[\"model\"]"
   ]
  },
  {
   "cell_type": "code",
   "execution_count": null,
   "metadata": {},
   "outputs": [],
   "source": [
    "params[\"ic_predictor\"]"
   ]
  },
  {
   "cell_type": "code",
   "execution_count": 13,
   "metadata": {},
   "outputs": [],
   "source": [
    "from src.utils import iterate_models"
   ]
  },
  {
   "cell_type": "code",
   "execution_count": null,
   "metadata": {},
   "outputs": [],
   "source": [
    "params[CONST_MODEL][\"ic_predictor\"][\"ic_predictor\"].keys()"
   ]
  },
  {
   "cell_type": "code",
   "execution_count": null,
   "metadata": {},
   "outputs": [],
   "source": [
    "for params, model, checkpoint_i in iterate_models(alpha_path):\n",
    "    print(params.keys(), model, checkpoint_i)\n",
    "    print(params[CONST_MODEL][\"ic_predictor\"].keys())\n",
    "    model.ic_predictor.forward(params[CONST_MODEL][\"ic_predictor\"], batch)"
   ]
  },
  {
   "cell_type": "code",
   "execution_count": null,
   "metadata": {},
   "outputs": [],
   "source": [
    "model.ic_predictor.forward(params[\"ic_predictor\"], batch)"
   ]
  },
  {
   "cell_type": "code",
   "execution_count": 17,
   "metadata": {},
   "outputs": [],
   "source": [
    "log_probs, aux = model.forward(params, batch, eval=True)"
   ]
  },
  {
   "cell_type": "code",
   "execution_count": null,
   "metadata": {},
   "outputs": [],
   "source": [
    "np.vstack((\n",
    "    np.argmax(batch[\"target\"][:, -1], axis=-1),\n",
    "    np.argmax(aux[\"ic_pred\"], axis=-1),\n",
    "    np.argmax(aux[\"iw_pred\"], axis=-1),\n",
    "    aux[\"p_iwl\"].flatten()\n",
    ")).T"
   ]
  },
  {
   "cell_type": "code",
   "execution_count": null,
   "metadata": {},
   "outputs": [],
   "source": []
  }
 ],
 "metadata": {
  "kernelspec": {
   "display_name": ".venv",
   "language": "python",
   "name": "python3"
  },
  "language_info": {
   "codemirror_mode": {
    "name": "ipython",
    "version": 3
   },
   "file_extension": ".py",
   "mimetype": "text/x-python",
   "name": "python",
   "nbconvert_exporter": "python",
   "pygments_lexer": "ipython3",
   "version": "3.10.14"
  }
 },
 "nbformat": 4,
 "nbformat_minor": 2
}
