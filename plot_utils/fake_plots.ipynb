{
 "cells": [
  {
   "cell_type": "code",
   "execution_count": 1,
   "id": "611aa6db-9102-41d8-a575-6da09450a2a2",
   "metadata": {},
   "outputs": [],
   "source": [
    "import _pickle as pickle\n",
    "import math\n",
    "import matplotlib.pyplot as plt\n",
    "import matplotlib.ticker as plticker\n",
    "import numpy as np\n",
    "import os\n",
    "import seaborn as sns\n",
    "import pandas as pd\n",
    "import timeit\n",
    "\n",
    "\n",
    "from itertools import product\n",
    "\n",
    "from utils import set_size, pgf_with_latex\n",
    "\n",
    "plt.style.use(\"seaborn-v0_8-colorblind\")\n",
    "\n",
    "# Using the set_size function as defined earlier\n",
    "doc_width_pt = 452.9679\n",
    "plt.rcParams.update(pgf_with_latex)"
   ]
  },
  {
   "cell_type": "markdown",
   "id": "dee521d6",
   "metadata": {},
   "source": [
    "# ERM"
   ]
  },
  {
   "cell_type": "code",
   "execution_count": 2,
   "id": "e052dfdd",
   "metadata": {},
   "outputs": [
    {
     "name": "stdout",
     "output_type": "stream",
     "text": [
      "[4.09600000e+03 1.63840000e+04 6.55360000e+04 2.62144000e+05\n",
      " 1.04857600e+06 4.19430400e+06 1.67772160e+07 6.71088640e+07\n",
      " 2.68435456e+08 1.07374182e+09 4.29496730e+09 1.71798692e+10]\n",
      "[0.5        0.75       0.83333333 0.875      0.9        0.99\n",
      " 0.999     ]\n"
     ]
    }
   ],
   "source": [
    "n_samples = np.floor(1 * (2 ** np.arange(6, 18)) ** 2)\n",
    "n_context = 8\n",
    "\n",
    "p_high = np.arange(1, 10, 2)\n",
    "p_high = p_high / (p_high + 1)\n",
    "p_high  = np.concatenate((p_high, np.array([0.99, 0.999])))\n",
    "\n",
    "print(n_samples)\n",
    "print(p_high)"
   ]
  },
  {
   "cell_type": "code",
   "execution_count": 3,
   "id": "d17d7bf8",
   "metadata": {},
   "outputs": [],
   "source": [
    "n_high = np.floor(n_samples[:, None] * p_high[None, :])\n",
    "n_low = np.floor(n_samples[:, None] * (1 - p_high[None, :]))"
   ]
  },
  {
   "cell_type": "code",
   "execution_count": 4,
   "id": "b20e7cd3",
   "metadata": {},
   "outputs": [],
   "source": [
    "iw_constant = 10\n",
    "error_iw_high = iw_constant / np.sqrt(n_high)\n",
    "error_iw_low = iw_constant / np.sqrt(n_low)"
   ]
  },
  {
   "cell_type": "code",
   "execution_count": 5,
   "id": "53e6f92d",
   "metadata": {},
   "outputs": [],
   "source": [
    "p_relevant_high = (n_context - 1) / n_context + p_high / n_context\n",
    "p_relevant_low = (n_context - 1) / n_context + (1 - p_high) / n_context\n",
    "\n",
    "n_relevant_high = np.floor(n_high * p_relevant_high)\n",
    "n_relevant_low = np.floor(n_low * p_relevant_low)"
   ]
  },
  {
   "cell_type": "code",
   "execution_count": 6,
   "id": "ca845d72",
   "metadata": {},
   "outputs": [
    {
     "data": {
      "text/plain": [
       "(array([0.9375    , 0.90625   , 0.89583333, 0.890625  , 0.8875    ,\n",
       "        0.87625   , 0.875125  ]),\n",
       " array([0.9375    , 0.96875   , 0.97916667, 0.984375  , 0.9875    ,\n",
       "        0.99875   , 0.999875  ]))"
      ]
     },
     "execution_count": 6,
     "metadata": {},
     "output_type": "execute_result"
    }
   ],
   "source": [
    "p_relevant_low, p_relevant_high"
   ]
  },
  {
   "cell_type": "code",
   "execution_count": 7,
   "id": "82f543e3",
   "metadata": {},
   "outputs": [],
   "source": [
    "ic_constant = 0.00001\n",
    "error_ic_high = (1 - p_relevant_high) + ic_constant / np.sqrt(n_relevant_high)\n",
    "error_ic_low = (1 - p_relevant_low) + ic_constant / np.clip(np.sqrt(n_relevant_low), a_min=1e-7, a_max=np.inf)"
   ]
  },
  {
   "cell_type": "code",
   "execution_count": 8,
   "id": "4eb001fd",
   "metadata": {},
   "outputs": [
    {
     "data": {
      "text/plain": [
       "array([[[6.25002282e-02, 2.20970869e-01],\n",
       "        [6.25001141e-02, 1.10485435e-01],\n",
       "        [6.25000571e-02, 5.52427173e-02],\n",
       "        [6.25000285e-02, 2.76213586e-02],\n",
       "        [6.25000143e-02, 1.38106793e-02],\n",
       "        [6.25000071e-02, 6.90533966e-03],\n",
       "        [6.25000036e-02, 3.45266983e-03],\n",
       "        [6.25000018e-02, 1.72633492e-03],\n",
       "        [6.25000009e-02, 8.63167458e-04],\n",
       "        [6.25000004e-02, 4.31583729e-04],\n",
       "        [6.25000002e-02, 2.15791864e-04],\n",
       "        [6.25000001e-02, 1.07895932e-04]],\n",
       "\n",
       "       [[3.12501833e-02, 1.80421959e-01],\n",
       "        [3.12500917e-02, 9.02109796e-02],\n",
       "        [3.12500458e-02, 4.51054898e-02],\n",
       "        [3.12500229e-02, 2.25527449e-02],\n",
       "        [3.12500115e-02, 1.12763724e-02],\n",
       "        [3.12500057e-02, 5.63818622e-03],\n",
       "        [3.12500029e-02, 2.81909311e-03],\n",
       "        [3.12500014e-02, 1.40954656e-03],\n",
       "        [3.12500007e-02, 7.04773278e-04],\n",
       "        [3.12500004e-02, 3.52386639e-04],\n",
       "        [3.12500002e-02, 1.76193319e-04],\n",
       "        [3.12500001e-02, 8.80966597e-05]],\n",
       "\n",
       "       [[2.08335063e-02, 1.71171657e-01],\n",
       "        [2.08334198e-02, 8.55826943e-02],\n",
       "        [2.08333766e-02, 4.27909554e-02],\n",
       "        [2.08333550e-02, 2.13954287e-02],\n",
       "        [2.08333441e-02, 1.06977082e-02],\n",
       "        [2.08333387e-02, 5.34885336e-03],\n",
       "        [2.08333360e-02, 2.67442658e-03],\n",
       "        [2.08333347e-02, 1.33721328e-03],\n",
       "        [2.08333340e-02, 6.68606638e-04],\n",
       "        [2.08333337e-02, 3.34303319e-04],\n",
       "        [2.08333335e-02, 1.67151659e-04],\n",
       "        [2.08333334e-02, 8.35758297e-05]],\n",
       "\n",
       "       [[1.56251684e-02, 1.67038276e-01],\n",
       "        [1.56250842e-02, 8.35191381e-02],\n",
       "        [1.56250421e-02, 4.17595690e-02],\n",
       "        [1.56250210e-02, 2.08797845e-02],\n",
       "        [1.56250105e-02, 1.04398923e-02],\n",
       "        [1.56250053e-02, 5.21994613e-03],\n",
       "        [1.56250026e-02, 2.60997307e-03],\n",
       "        [1.56250013e-02, 1.30498653e-03],\n",
       "        [1.56250007e-02, 6.52493266e-04],\n",
       "        [1.56250003e-02, 3.26246633e-04],\n",
       "        [1.56250002e-02, 1.63123317e-04],\n",
       "        [1.56250001e-02, 8.15616583e-05]],\n",
       "\n",
       "       [[1.25001658e-02, 1.64710898e-01],\n",
       "        [1.25000829e-02, 8.23526562e-02],\n",
       "        [1.25000414e-02, 4.11756300e-02],\n",
       "        [1.25000207e-02, 2.05877714e-02],\n",
       "        [1.25000104e-02, 1.02938748e-02],\n",
       "        [1.25000052e-02, 5.14693670e-03],\n",
       "        [1.25000026e-02, 2.57346818e-03],\n",
       "        [1.25000013e-02, 1.28673408e-03],\n",
       "        [1.25000006e-02, 6.43367038e-04],\n",
       "        [1.25000003e-02, 3.21683519e-04],\n",
       "        [1.25000002e-02, 1.60841759e-04],\n",
       "        [1.25000001e-02, 8.04208796e-05]],\n",
       "\n",
       "       [[1.25015715e-03, 1.57037933e-01],\n",
       "        [1.25007857e-03, 7.85189666e-02],\n",
       "        [1.25003928e-03, 3.92594833e-02],\n",
       "        [1.25001964e-03, 1.96296660e-02],\n",
       "        [1.25000982e-03, 9.81482355e-03],\n",
       "        [1.25000491e-03, 4.90741177e-03],\n",
       "        [1.25000246e-03, 2.45370567e-03],\n",
       "        [1.25000123e-03, 1.22685281e-03],\n",
       "        [1.25000061e-03, 6.13426401e-04],\n",
       "        [1.25000031e-03, 3.06713201e-04],\n",
       "        [1.25000015e-03, 1.53356600e-04],\n",
       "        [1.25000008e-03, 7.66783001e-05]],\n",
       "\n",
       "       [[1.25156365e-04, 1.56345455e-01],\n",
       "        [1.25078173e-04, 7.81655627e-02],\n",
       "        [1.25039085e-04, 3.90821844e-02],\n",
       "        [1.25019542e-04, 1.95410549e-02],\n",
       "        [1.25009771e-04, 9.77051346e-03],\n",
       "        [1.25004886e-04, 4.88525614e-03],\n",
       "        [1.25002443e-04, 2.44262793e-03],\n",
       "        [1.25001221e-04, 1.22131394e-03],\n",
       "        [1.25000611e-04, 6.10656968e-04],\n",
       "        [1.25000305e-04, 3.05328484e-04],\n",
       "        [1.25000153e-04, 1.52664242e-04],\n",
       "        [1.25000076e-04, 7.63321209e-05]]])"
      ]
     },
     "execution_count": 8,
     "metadata": {},
     "output_type": "execute_result"
    }
   ],
   "source": [
    "np.concatenate((error_ic_high.T[..., None], error_iw_high.T[..., None]), axis=-1)"
   ]
  },
  {
   "cell_type": "code",
   "execution_count": 9,
   "id": "1bba2a05",
   "metadata": {},
   "outputs": [
    {
     "data": {
      "text/plain": [
       "array([[[6.25002282e-02, 2.20970869e-01],\n",
       "        [6.25001141e-02, 1.10485435e-01],\n",
       "        [6.25000571e-02, 5.52427173e-02],\n",
       "        [6.25000285e-02, 2.76213586e-02],\n",
       "        [6.25000143e-02, 1.38106793e-02],\n",
       "        [6.25000071e-02, 6.90533966e-03],\n",
       "        [6.25000036e-02, 3.45266983e-03],\n",
       "        [6.25000018e-02, 1.72633492e-03],\n",
       "        [6.25000009e-02, 8.63167458e-04],\n",
       "        [6.25000004e-02, 4.31583729e-04],\n",
       "        [6.25000002e-02, 2.15791864e-04],\n",
       "        [6.25000001e-02, 1.07895932e-04]],\n",
       "\n",
       "       [[9.37503283e-02, 3.12500000e-01],\n",
       "        [9.37501641e-02, 1.56250000e-01],\n",
       "        [9.37500821e-02, 7.81250000e-02],\n",
       "        [9.37500410e-02, 3.90625000e-02],\n",
       "        [9.37500205e-02, 1.95312500e-02],\n",
       "        [9.37500103e-02, 9.76562500e-03],\n",
       "        [9.37500051e-02, 4.88281250e-03],\n",
       "        [9.37500026e-02, 2.44140625e-03],\n",
       "        [9.37500013e-02, 1.22070312e-03],\n",
       "        [9.37500006e-02, 6.10351562e-04],\n",
       "        [9.37500003e-02, 3.05175781e-04],\n",
       "        [9.37500002e-02, 1.52587891e-04]],\n",
       "\n",
       "       [[1.04167072e-01, 3.82919791e-01],\n",
       "        [1.04166869e-01, 1.91389751e-01],\n",
       "        [1.04166768e-01, 9.56861132e-02],\n",
       "        [1.04166717e-01, 4.78419615e-02],\n",
       "        [1.04166692e-01, 2.39208439e-02],\n",
       "        [1.04166679e-01, 1.19604048e-02],\n",
       "        [1.04166673e-01, 5.98020028e-03],\n",
       "        [1.04166670e-01, 2.99009987e-03],\n",
       "        [1.04166668e-01, 1.49504990e-03],\n",
       "        [1.04166667e-01, 7.47524947e-04],\n",
       "        [1.04166667e-01, 3.73762473e-04],\n",
       "        [1.04166667e-01, 1.86881237e-04]],\n",
       "\n",
       "       [[1.09375468e-01, 4.41941738e-01],\n",
       "        [1.09375234e-01, 2.20970869e-01],\n",
       "        [1.09375117e-01, 1.10485435e-01],\n",
       "        [1.09375059e-01, 5.52427173e-02],\n",
       "        [1.09375029e-01, 2.76213586e-02],\n",
       "        [1.09375015e-01, 1.38106793e-02],\n",
       "        [1.09375007e-01, 6.90533966e-03],\n",
       "        [1.09375004e-01, 3.45266983e-03],\n",
       "        [1.09375002e-01, 1.72633492e-03],\n",
       "        [1.09375001e-01, 8.63167458e-04],\n",
       "        [1.09375000e-01, 4.31583729e-04],\n",
       "        [1.09375000e-01, 2.15791864e-04]],\n",
       "\n",
       "       [[1.12500526e-01, 4.94468176e-01],\n",
       "        [1.12500262e-01, 2.47083106e-01],\n",
       "        [1.12500131e-01, 1.23532126e-01],\n",
       "        [1.12500066e-01, 6.17637068e-02],\n",
       "        [1.12500033e-01, 3.08817061e-02],\n",
       "        [1.12500016e-01, 1.54408163e-02],\n",
       "        [1.12500008e-01, 7.72040582e-03],\n",
       "        [1.12500004e-01, 3.86020234e-03],\n",
       "        [1.12500002e-01, 1.93010113e-03],\n",
       "        [1.12500001e-01, 9.65050557e-04],\n",
       "        [1.12500001e-01, 4.82525278e-04],\n",
       "        [1.12500000e-01, 2.41262639e-04]],\n",
       "\n",
       "       [[1.23751690e-01, 1.58113883e+00],\n",
       "        [1.23750839e-01, 7.83260450e-01],\n",
       "        [1.23750418e-01, 3.90732333e-01],\n",
       "        [1.23750209e-01, 1.95328893e-01],\n",
       "        [1.23750104e-01, 9.76597892e-02],\n",
       "        [1.23750052e-01, 4.88281483e-02],\n",
       "        [1.23750026e-01, 2.44140741e-02],\n",
       "        [1.23750013e-01, 1.22070371e-02],\n",
       "        [1.23750007e-01, 6.10351626e-03],\n",
       "        [1.23750003e-01, 3.05175785e-03],\n",
       "        [1.23750002e-01, 1.52587892e-03],\n",
       "        [1.23750001e-01, 7.62939455e-04]],\n",
       "\n",
       "       [[1.24880774e-01, 5.00000000e+00],\n",
       "        [1.24877673e-01, 2.50000000e+00],\n",
       "        [1.24876336e-01, 1.24034735e+00],\n",
       "        [1.24875661e-01, 6.17802063e-01],\n",
       "        [1.24875330e-01, 3.08901032e-01],\n",
       "        [1.24875165e-01, 1.54413685e-01],\n",
       "        [1.24875083e-01, 7.72045414e-02],\n",
       "        [1.24875041e-01, 3.86022707e-02],\n",
       "        [1.24875021e-01, 1.93010275e-02],\n",
       "        [1.24875010e-01, 9.65050926e-03],\n",
       "        [1.24875005e-01, 4.82525294e-03],\n",
       "        [1.24875003e-01, 2.41262640e-03]]])"
      ]
     },
     "execution_count": 9,
     "metadata": {},
     "output_type": "execute_result"
    }
   ],
   "source": [
    "np.concatenate((error_ic_low.T[..., None], error_iw_low.T[..., None]), axis=-1)"
   ]
  },
  {
   "cell_type": "code",
   "execution_count": 10,
   "id": "16a0b740",
   "metadata": {},
   "outputs": [],
   "source": [
    "alpha_high = np.argmin(\n",
    "    np.concatenate((error_ic_high[..., None], error_iw_high[..., None]), axis=-1),\n",
    "    axis=-1\n",
    ").T\n",
    "alpha_low = np.argmin(\n",
    "    np.concatenate((error_ic_low[..., None], error_iw_low[..., None]), axis=-1),\n",
    "    axis=-1\n",
    ").T"
   ]
  },
  {
   "cell_type": "code",
   "execution_count": 11,
   "id": "781a07b7",
   "metadata": {},
   "outputs": [
    {
     "data": {
      "text/plain": [
       "array([[0, 0, 1, 1, 1, 1, 1, 1, 1, 1, 1, 1],\n",
       "       [0, 0, 0, 1, 1, 1, 1, 1, 1, 1, 1, 1],\n",
       "       [0, 0, 0, 0, 1, 1, 1, 1, 1, 1, 1, 1],\n",
       "       [0, 0, 0, 0, 1, 1, 1, 1, 1, 1, 1, 1],\n",
       "       [0, 0, 0, 0, 1, 1, 1, 1, 1, 1, 1, 1],\n",
       "       [0, 0, 0, 0, 0, 0, 0, 1, 1, 1, 1, 1],\n",
       "       [0, 0, 0, 0, 0, 0, 0, 0, 0, 0, 0, 1]])"
      ]
     },
     "execution_count": 11,
     "metadata": {},
     "output_type": "execute_result"
    }
   ],
   "source": [
    "alpha_high"
   ]
  },
  {
   "cell_type": "code",
   "execution_count": 12,
   "id": "6fd0a001",
   "metadata": {},
   "outputs": [
    {
     "data": {
      "text/plain": [
       "array([[0, 0, 1, 1, 1, 1, 1, 1, 1, 1, 1, 1],\n",
       "       [0, 0, 1, 1, 1, 1, 1, 1, 1, 1, 1, 1],\n",
       "       [0, 0, 1, 1, 1, 1, 1, 1, 1, 1, 1, 1],\n",
       "       [0, 0, 0, 1, 1, 1, 1, 1, 1, 1, 1, 1],\n",
       "       [0, 0, 0, 1, 1, 1, 1, 1, 1, 1, 1, 1],\n",
       "       [0, 0, 0, 0, 1, 1, 1, 1, 1, 1, 1, 1],\n",
       "       [0, 0, 0, 0, 0, 0, 1, 1, 1, 1, 1, 1]])"
      ]
     },
     "execution_count": 12,
     "metadata": {},
     "output_type": "execute_result"
    }
   ],
   "source": [
    "alpha_low"
   ]
  },
  {
   "cell_type": "code",
   "execution_count": 13,
   "id": "33737e01",
   "metadata": {},
   "outputs": [
    {
     "data": {
      "text/plain": [
       "array([2048., 3072., 3413., 3584., 3686., 4055., 4091.])"
      ]
     },
     "execution_count": 13,
     "metadata": {},
     "output_type": "execute_result"
    }
   ],
   "source": [
    "n_high[0]"
   ]
  },
  {
   "cell_type": "code",
   "execution_count": 14,
   "id": "73efa771",
   "metadata": {},
   "outputs": [
    {
     "data": {
      "text/plain": [
       "array([0.5       , 0.75      , 0.83333333, 0.875     , 0.9       ,\n",
       "       0.99      , 0.999     ])"
      ]
     },
     "execution_count": 14,
     "metadata": {},
     "output_type": "execute_result"
    }
   ],
   "source": [
    "p_high"
   ]
  },
  {
   "cell_type": "code",
   "execution_count": 15,
   "id": "acbb8002",
   "metadata": {},
   "outputs": [
    {
     "data": {
      "text/plain": [
       "(12,)"
      ]
     },
     "execution_count": 15,
     "metadata": {},
     "output_type": "execute_result"
    }
   ],
   "source": [
    "n_samples.shape"
   ]
  },
  {
   "cell_type": "code",
   "execution_count": 16,
   "id": "174dae38",
   "metadata": {},
   "outputs": [
    {
     "data": {
      "text/plain": [
       "<matplotlib.legend.Legend at 0x168eded10>"
      ]
     },
     "execution_count": 16,
     "metadata": {},
     "output_type": "execute_result"
    },
    {
     "data": {
      "image/png": "[encoded data removed]",
      "text/plain": [
       "<Figure size 640x480 with 1 Axes>"
      ]
     },
     "metadata": {},
     "output_type": "display_data"
    }
   ],
   "source": [
    "for p_high_i, curr_p_high in enumerate(p_high):\n",
    "    plt.plot(\n",
    "        np.log2(n_samples),\n",
    "        alpha_high[p_high_i] + p_high_i * 0.01,\n",
    "        label=\"{:.3f}\".format(curr_p_high),\n",
    "        marker=\"x\",\n",
    "        linestyle=\"--\",\n",
    "        alpha=1.0\n",
    "    )\n",
    "\n",
    "plt.title(\"High freq.\")\n",
    "plt.xlabel(\"$\\\\log_2$ num. samples\")\n",
    "plt.ylabel(\"$\\\\alpha$\")\n",
    "plt.legend()"
   ]
  },
  {
   "cell_type": "code",
   "execution_count": 17,
   "id": "1da7e31b",
   "metadata": {},
   "outputs": [
    {
     "data": {
      "text/plain": [
       "<matplotlib.legend.Legend at 0x169083a60>"
      ]
     },
     "execution_count": 17,
     "metadata": {},
     "output_type": "execute_result"
    },
    {
     "data": {
      "image/png": "[encoded data removed]",
      "text/plain": [
       "<Figure size 640x480 with 1 Axes>"
      ]
     },
     "metadata": {},
     "output_type": "display_data"
    }
   ],
   "source": [
    "for p_low_i, curr_p_high in enumerate(p_high):\n",
    "    plt.plot(\n",
    "        np.log2(n_samples),\n",
    "        alpha_low[p_low_i] + p_low_i * 0.01,\n",
    "        label=\"{:.3f}\".format(1 - curr_p_high),\n",
    "        marker=\"x\",\n",
    "        linestyle=\"--\",\n",
    "        alpha=1.0\n",
    "    )\n",
    "\n",
    "plt.title(\"Low freq.\")\n",
    "plt.xlabel(\"$\\\\log_2$ num. samples\")\n",
    "plt.ylabel(\"$\\\\alpha$\")\n",
    "plt.legend()"
   ]
  },
  {
   "cell_type": "markdown",
   "id": "69fcb719",
   "metadata": {},
   "source": [
    "# ERM 2"
   ]
  },
  {
   "cell_type": "code",
   "execution_count": 172,
   "id": "16813255",
   "metadata": {},
   "outputs": [],
   "source": [
    "L = 8\n",
    "C = 10\n",
    "\n",
    "label_noise = 0.001\n",
    "label_noise = max(label_noise, 1 - label_noise)\n",
    "\n",
    "iw_constant = 4096.0\n",
    "ic_eps = 0.001\n",
    "B = 1"
   ]
  },
  {
   "cell_type": "markdown",
   "id": "42f8df89",
   "metadata": {},
   "source": [
    "IW Predictor:\n",
    "<!-- $$\n",
    "  R_{{D_x}}(\\hat{g}) \\leq \\min_{y^*} R_{{D_x}}(y^*) + \\mathcal{O}\\left( \\sqrt{ \\frac{\\log(2\\lvert \\mathcal{X} \\rvert / \\delta)}{N_x} } \\right)\n",
    "$$ -->\n",
    "\n",
    "$$\n",
    "  \\mathbb{E}_y[CE(g(x),y)] \\in \\mathbb{E}_y[CE(y^*,y)] + \\frac{C-1}{2} \\frac{\\log(N_x)}{N_x} + \\Theta(1/N_x)\n",
    "$$"
   ]
  },
  {
   "cell_type": "code",
   "execution_count": 173,
   "id": "3ce043fa",
   "metadata": {},
   "outputs": [
    {
     "data": {
      "text/plain": [
       "0.0010005003335835344"
      ]
     },
     "execution_count": 173,
     "metadata": {},
     "output_type": "execute_result"
    }
   ],
   "source": [
    "best_error = -np.log(label_noise)\n",
    "best_error"
   ]
  },
  {
   "cell_type": "code",
   "execution_count": 174,
   "id": "8684c1f6",
   "metadata": {},
   "outputs": [
    {
     "data": {
      "text/plain": [
       "0.011116144118048133"
      ]
     },
     "execution_count": 174,
     "metadata": {},
     "output_type": "execute_result"
    }
   ],
   "source": [
    "best_error = -label_noise * np.log(label_noise) - C * ((1 - label_noise) / (C - 1)) * np.log((1 - label_noise) / (C - 1))\n",
    "best_error"
   ]
  },
  {
   "cell_type": "code",
   "execution_count": 175,
   "id": "fd2e9fdb",
   "metadata": {},
   "outputs": [],
   "source": [
    "n_samples = np.floor(1 * (2 ** np.arange(2, 20)) ** 2)"
   ]
  },
  {
   "cell_type": "code",
   "execution_count": 176,
   "id": "8656d753",
   "metadata": {},
   "outputs": [],
   "source": [
    "# iw_errors = best_error + ic_constant * np.sqrt(1 / n_samples)\n",
    "iw_errors = best_error + (C - 1) / 2 * np.log(n_samples) / n_samples"
   ]
  },
  {
   "cell_type": "markdown",
   "id": "3c5b5028",
   "metadata": {},
   "source": [
    "IC Predictor:\n",
    "For $L$ contexts and $k$ irrelevant contexts:\n",
    "$$\n",
    "  \\frac{k(1-\\epsilon C)}{k + (L-k)\\exp(2\\sqrt{B})} + \\epsilon(C-1) \\le CE(h(\\tilde{x}), y) \\le -\\log \\left((1-\\epsilon C)\\frac{L-k}{L} + \\epsilon \\right).\n",
    "$$\n",
    "\n",
    "With $k = 0$,\n",
    "$$\n",
    "  CE(h(\\hat{x}), y) = \\log \\frac{1}{\\varepsilon}\n",
    "$$\n",
    "where $\\varepsilon > 0$ is the minimum probability for all classes"
   ]
  },
  {
   "cell_type": "code",
   "execution_count": 177,
   "id": "65f8ab19",
   "metadata": {},
   "outputs": [],
   "source": [
    "ic_errors = np.zeros((L + 1, 2))\n",
    "ic_errors[-1] = np.log(1 / ic_eps)"
   ]
  },
  {
   "cell_type": "code",
   "execution_count": 178,
   "id": "56717f64",
   "metadata": {},
   "outputs": [],
   "source": [
    "for k in np.arange(0, L):\n",
    "    ic_errors[k] = [\n",
    "        (1 - ic_eps * C) * k / (k + (L - k) * np.exp(2 * np.sqrt(B))),\n",
    "        -np.log((1 - ic_eps * C) * (L - k) / L + ic_eps)\n",
    "    ]"
   ]
  },
  {
   "cell_type": "markdown",
   "id": "ff7593d1",
   "metadata": {},
   "source": [
    "Plot"
   ]
  },
  {
   "cell_type": "code",
   "execution_count": 179,
   "id": "f54ea78a",
   "metadata": {},
   "outputs": [
    {
     "data": {
      "image/png": "[encoded data removed]",
      "text/plain": [
       "<Figure size 595.433x183.999 with 8 Axes>"
      ]
     },
     "metadata": {},
     "output_type": "display_data"
    }
   ],
   "source": [
    "num_rows = 2\n",
    "num_cols = L // 2\n",
    "\n",
    "fig, axes = plt.subplots(\n",
    "    num_rows,\n",
    "    num_cols,\n",
    "    figsize=set_size(doc_width_pt, 0.95, (num_rows, num_cols), use_golden_ratio=True),\n",
    "    layout=\"constrained\",\n",
    ")\n",
    "\n",
    "for k in np.arange(L):\n",
    "    row_i = k // num_cols\n",
    "    col_i = k % num_cols\n",
    "    ax = axes[row_i, col_i]\n",
    "    midpoint = np.mean(ic_errors[k])\n",
    "    ax.axhline(ic_errors[k, 0], linestyle=\"--\", color=\"red\", label=\"IC Lower Bound/Upper Bound\" if k == 0 else \"\")\n",
    "    ax.axhline(ic_errors[k, 1], linestyle=\"--\", color=\"red\")\n",
    "    ax.fill_between(np.log(n_samples), ic_errors[k, 0], ic_errors[k, 1], color=\"red\", alpha=0.3)\n",
    "\n",
    "    # ax.plot(np.log(n_samples), iw_errors, color=\"blue\", label=\"IW Lower Bound/Upper Bound\" if k == 0 else \"\")\n",
    "\n",
    "    ax.plot(np.log(n_samples), iw_errors + iw_constant / n_samples, linestyle=\"--\", color=\"blue\", label=\"IW Lower Bound / Upper Bound\" if k == 0 else \"\")\n",
    "    ax.plot(np.log(n_samples), np.clip(iw_errors - iw_constant / n_samples, a_min=0.0, a_max=np.inf), linestyle=\"--\", color=\"blue\")\n",
    "    ax.fill_between(np.log(n_samples), iw_errors + iw_constant / n_samples, np.clip(iw_errors - iw_constant / n_samples, a_min=0.0, a_max=np.inf), color=\"blue\", alpha=0.3)\n",
    "    \n",
    "    ax.set_ylim(-0.01, max(np.max(ic_errors[:L, 0]), np.max(iw_errors)) + 0.1)\n",
    "\n",
    "    ax.set_title(\"$k = {}$\".format(k), fontsize=\"8\",)\n",
    "    loc = plticker.MultipleLocator(base=5.0) # this locator puts ticks at regular intervals\n",
    "    ax.xaxis.set_major_locator(loc)\n",
    "\n",
    "    if row_i < num_rows - 1:\n",
    "        ax.set_xticks([])\n",
    "    if col_i > 0:\n",
    "        ax.set_yticks([])\n",
    "\n",
    "\n",
    "fig.supxlabel(\"$N_x$ (in $\\\\log_2$)\", fontsize=\"8\",)\n",
    "fig.supylabel(\"Loss\", fontsize=\"8\",)\n",
    "fig.legend(\n",
    "    bbox_to_anchor=(0.0, 1.0, 1.0, 0.0),\n",
    "    loc=\"lower center\",\n",
    "    ncols=4,\n",
    "    borderaxespad=0.0,\n",
    "    frameon=True,\n",
    "    fontsize=\"8\", \n",
    ")\n",
    "# plt.plot()\n",
    "\n",
    "plt.savefig(\"toy_example-errors.pdf\", dpi=600, format=\"pdf\", bbox_inches=\"tight\")"
   ]
  },
  {
   "cell_type": "code",
   "execution_count": 171,
   "id": "d39c2e80",
   "metadata": {},
   "outputs": [
    {
     "data": {
      "text/plain": [
       "array([0.16590672, 0.14728761, 0.06952747, 0.03181109, 0.01781291,\n",
       "       0.01317109, 0.01172507, 0.01129217, 0.0111661 , 0.01113012,\n",
       "       0.01112001, 0.0111172 , 0.01111643, 0.01111622, 0.01111617,\n",
       "       0.01111615, 0.01111615, 0.01111614])"
      ]
     },
     "execution_count": 171,
     "metadata": {},
     "output_type": "execute_result"
    }
   ],
   "source": [
    "np.clip(iw_errors - iw_constant / n_samples, a_min=0.0, a_max=np.inf)"
   ]
  },
  {
   "cell_type": "code",
   "execution_count": null,
   "id": "5bb34bda",
   "metadata": {},
   "outputs": [],
   "source": []
  }
 ],
 "metadata": {
  "kernelspec": {
   "display_name": ".venv",
   "language": "python",
   "name": "python3"
  },
  "language_info": {
   "codemirror_mode": {
    "name": "ipython",
    "version": 3
   },
   "file_extension": ".py",
   "mimetype": "text/x-python",
   "name": "python",
   "nbconvert_exporter": "python",
   "pygments_lexer": "ipython3",
   "version": "3.10.14"
  }
 },
 "nbformat": 4,
 "nbformat_minor": 5
}
