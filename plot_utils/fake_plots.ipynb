{
 "cells": [
  {
   "cell_type": "code",
   "execution_count": 11,
   "id": "611aa6db-9102-41d8-a575-6da09450a2a2",
   "metadata": {},
   "outputs": [],
   "source": [
    "import _pickle as pickle\n",
    "import math\n",
    "import matplotlib.pyplot as plt\n",
    "import matplotlib.ticker as plticker\n",
    "import numpy as np\n",
    "import os\n",
    "import seaborn as sns\n",
    "import pandas as pd\n",
    "import timeit\n",
    "\n",
    "\n",
    "from itertools import product\n",
    "\n",
    "from utils import set_size, pgf_with_latex\n",
    "\n",
    "plt.style.use(\"seaborn-v0_8-colorblind\")\n",
    "\n",
    "# Using the set_size function as defined earlier\n",
    "doc_width_pt = 452.9679\n",
    "plt.rcParams.update(pgf_with_latex)"
   ]
  },
  {
   "cell_type": "markdown",
   "id": "dee521d6",
   "metadata": {},
   "source": [
    "# ERM"
   ]
  },
  {
   "cell_type": "code",
   "execution_count": null,
   "id": "e052dfdd",
   "metadata": {},
   "outputs": [],
   "source": [
    "n_samples = np.floor(1 * (2 ** np.arange(6, 18)) ** 2)\n",
    "n_context = 8\n",
    "\n",
    "p_high = np.arange(1, 10, 2)\n",
    "p_high = p_high / (p_high + 1)\n",
    "p_high  = np.concatenate((p_high, np.array([0.99, 0.999])))\n",
    "\n",
    "print(n_samples)\n",
    "print(p_high)"
   ]
  },
  {
   "cell_type": "code",
   "execution_count": 3,
   "id": "d17d7bf8",
   "metadata": {},
   "outputs": [],
   "source": [
    "n_high = np.floor(n_samples[:, None] * p_high[None, :])\n",
    "n_low = np.floor(n_samples[:, None] * (1 - p_high[None, :]))"
   ]
  },
  {
   "cell_type": "code",
   "execution_count": 4,
   "id": "b20e7cd3",
   "metadata": {},
   "outputs": [],
   "source": [
    "iw_constant = 10\n",
    "error_iw_high = iw_constant / np.sqrt(n_high)\n",
    "error_iw_low = iw_constant / np.sqrt(n_low)"
   ]
  },
  {
   "cell_type": "code",
   "execution_count": 5,
   "id": "53e6f92d",
   "metadata": {},
   "outputs": [],
   "source": [
    "p_relevant_high = (n_context - 1) / n_context + p_high / n_context\n",
    "p_relevant_low = (n_context - 1) / n_context + (1 - p_high) / n_context\n",
    "\n",
    "n_relevant_high = np.floor(n_high * p_relevant_high)\n",
    "n_relevant_low = np.floor(n_low * p_relevant_low)"
   ]
  },
  {
   "cell_type": "code",
   "execution_count": null,
   "id": "ca845d72",
   "metadata": {},
   "outputs": [],
   "source": [
    "p_relevant_low, p_relevant_high"
   ]
  },
  {
   "cell_type": "code",
   "execution_count": 7,
   "id": "82f543e3",
   "metadata": {},
   "outputs": [],
   "source": [
    "ic_constant = 0.00001\n",
    "error_ic_high = (1 - p_relevant_high) + ic_constant / np.sqrt(n_relevant_high)\n",
    "error_ic_low = (1 - p_relevant_low) + ic_constant / np.clip(np.sqrt(n_relevant_low), a_min=1e-7, a_max=np.inf)"
   ]
  },
  {
   "cell_type": "code",
   "execution_count": null,
   "id": "4eb001fd",
   "metadata": {},
   "outputs": [],
   "source": [
    "np.concatenate((error_ic_high.T[..., None], error_iw_high.T[..., None]), axis=-1)"
   ]
  },
  {
   "cell_type": "code",
   "execution_count": null,
   "id": "1bba2a05",
   "metadata": {},
   "outputs": [],
   "source": [
    "np.concatenate((error_ic_low.T[..., None], error_iw_low.T[..., None]), axis=-1)"
   ]
  },
  {
   "cell_type": "code",
   "execution_count": 10,
   "id": "16a0b740",
   "metadata": {},
   "outputs": [],
   "source": [
    "alpha_high = np.argmin(\n",
    "    np.concatenate((error_ic_high[..., None], error_iw_high[..., None]), axis=-1),\n",
    "    axis=-1\n",
    ").T\n",
    "alpha_low = np.argmin(\n",
    "    np.concatenate((error_ic_low[..., None], error_iw_low[..., None]), axis=-1),\n",
    "    axis=-1\n",
    ").T"
   ]
  },
  {
   "cell_type": "code",
   "execution_count": null,
   "id": "781a07b7",
   "metadata": {},
   "outputs": [],
   "source": [
    "alpha_high"
   ]
  },
  {
   "cell_type": "code",
   "execution_count": null,
   "id": "6fd0a001",
   "metadata": {},
   "outputs": [],
   "source": [
    "alpha_low"
   ]
  },
  {
   "cell_type": "code",
   "execution_count": null,
   "id": "33737e01",
   "metadata": {},
   "outputs": [],
   "source": [
    "n_high[0]"
   ]
  },
  {
   "cell_type": "code",
   "execution_count": null,
   "id": "73efa771",
   "metadata": {},
   "outputs": [],
   "source": [
    "p_high"
   ]
  },
  {
   "cell_type": "code",
   "execution_count": null,
   "id": "acbb8002",
   "metadata": {},
   "outputs": [],
   "source": [
    "n_samples.shape"
   ]
  },
  {
   "cell_type": "code",
   "execution_count": null,
   "id": "174dae38",
   "metadata": {},
   "outputs": [],
   "source": [
    "for p_high_i, curr_p_high in enumerate(p_high):\n",
    "    plt.plot(\n",
    "        np.log2(n_samples),\n",
    "        alpha_high[p_high_i] + p_high_i * 0.01,\n",
    "        label=\"{:.3f}\".format(curr_p_high),\n",
    "        marker=\"x\",\n",
    "        linestyle=\"--\",\n",
    "        alpha=1.0\n",
    "    )\n",
    "\n",
    "plt.title(\"High freq.\")\n",
    "plt.xlabel(\"$\\\\log_2$ num. samples\")\n",
    "plt.ylabel(\"$\\\\alpha$\")\n",
    "plt.legend()"
   ]
  },
  {
   "cell_type": "code",
   "execution_count": null,
   "id": "1da7e31b",
   "metadata": {},
   "outputs": [],
   "source": [
    "for p_low_i, curr_p_high in enumerate(p_high):\n",
    "    plt.plot(\n",
    "        np.log2(n_samples),\n",
    "        alpha_low[p_low_i] + p_low_i * 0.01,\n",
    "        label=\"{:.3f}\".format(1 - curr_p_high),\n",
    "        marker=\"x\",\n",
    "        linestyle=\"--\",\n",
    "        alpha=1.0\n",
    "    )\n",
    "\n",
    "plt.title(\"Low freq.\")\n",
    "plt.xlabel(\"$\\\\log_2$ num. samples\")\n",
    "plt.ylabel(\"$\\\\alpha$\")\n",
    "plt.legend()"
   ]
  },
  {
   "cell_type": "markdown",
   "id": "69fcb719",
   "metadata": {},
   "source": [
    "# ERM 2"
   ]
  },
  {
   "cell_type": "markdown",
   "id": "42f8df89",
   "metadata": {},
   "source": [
    "IW Predictor:\n",
    "$$\n",
    "  R_{{D_x}}(\\hat{g}) \\leq \\min_{y^*} R_{{D_x}}(y^*) + \\mathcal{O}\\left( \\sqrt{ \\frac{\\log(2\\lvert \\mathcal{X} \\rvert / \\delta)}{N_x} } \\right)\n",
    "$$\n",
    "\n",
    "IC Predictor:\n",
    "For $L$ contexts and $k$ irrelevant contexts:\n",
    "$$\n",
    "  \\frac{2k}{k + (L - k)\\exp{(4)}} \\leq CE(h(\\hat{x}), y) \\leq \\log \\frac{L}{L - k}\n",
    "$$\n",
    "\n",
    "With $k = 0$,\n",
    "$$\n",
    "  CE(h(\\hat{x}), y) = \\log \\frac{1}{\\varepsilon}\n",
    "$$\n",
    "where $\\varepsilon > 0$ is the minimum probability for all classes"
   ]
  },
  {
   "cell_type": "code",
   "execution_count": 37,
   "id": "16813255",
   "metadata": {},
   "outputs": [],
   "source": [
    "L = 8\n",
    "label_noise = 0.01\n",
    "label_noise = max(label_noise, 1 - label_noise)"
   ]
  },
  {
   "cell_type": "markdown",
   "id": "d27c9c0d",
   "metadata": {},
   "source": [
    "IW"
   ]
  },
  {
   "cell_type": "code",
   "execution_count": null,
   "id": "8684c1f6",
   "metadata": {},
   "outputs": [],
   "source": [
    "best_error = -label_noise * np.log(label_noise) - (1 - label_noise) * np.log(1 - label_noise)\n",
    "best_error"
   ]
  },
  {
   "cell_type": "code",
   "execution_count": 39,
   "id": "fd2e9fdb",
   "metadata": {},
   "outputs": [],
   "source": [
    "n_samples = np.floor(1 * (2 ** np.arange(6, 18)) ** 2)"
   ]
  },
  {
   "cell_type": "code",
   "execution_count": 40,
   "id": "7eca06d1",
   "metadata": {},
   "outputs": [],
   "source": [
    "ic_constant = 10"
   ]
  },
  {
   "cell_type": "code",
   "execution_count": 41,
   "id": "8656d753",
   "metadata": {},
   "outputs": [],
   "source": [
    "iw_errors = best_error + ic_constant * np.sqrt(1 / n_samples)"
   ]
  },
  {
   "cell_type": "markdown",
   "id": "3c5b5028",
   "metadata": {},
   "source": [
    "IC"
   ]
  },
  {
   "cell_type": "code",
   "execution_count": 42,
   "id": "10e12401",
   "metadata": {},
   "outputs": [],
   "source": [
    "ic_min = 0.01"
   ]
  },
  {
   "cell_type": "code",
   "execution_count": 43,
   "id": "65f8ab19",
   "metadata": {},
   "outputs": [],
   "source": [
    "ic_errors = np.zeros((L + 1, 2))\n",
    "ic_errors[-1] = np.log(1 / ic_min)"
   ]
  },
  {
   "cell_type": "code",
   "execution_count": 44,
   "id": "56717f64",
   "metadata": {},
   "outputs": [],
   "source": [
    "for k in np.arange(0, L):\n",
    "    ic_errors[k] = [\n",
    "        2 * k / (k + (L - k) * np.exp(4)),\n",
    "        np.log(L / (L - k))\n",
    "    ]"
   ]
  },
  {
   "cell_type": "markdown",
   "id": "ff7593d1",
   "metadata": {},
   "source": [
    "Plot"
   ]
  },
  {
   "cell_type": "code",
   "execution_count": null,
   "id": "f54ea78a",
   "metadata": {},
   "outputs": [],
   "source": [
    "num_rows = 2\n",
    "num_cols = L // 2\n",
    "\n",
    "fig, axes = plt.subplots(\n",
    "    num_rows,\n",
    "    num_cols,\n",
    "    figsize=set_size(doc_width_pt, 0.95, (num_rows, num_cols), use_golden_ratio=True),\n",
    "    layout=\"constrained\",\n",
    ")\n",
    "\n",
    "for k in np.arange(L):\n",
    "    row_i = k // num_cols\n",
    "    col_i = k % num_cols\n",
    "    ax = axes[row_i, col_i]\n",
    "    midpoint = np.mean(ic_errors[k])\n",
    "    ax.axhline(ic_errors[k, 0], linestyle=\"--\", color=\"red\", label=\"IC Lower Bound\" if k == 0 else \"\")\n",
    "    # ax.axhline(ic_errors[k, 1], linestyle=\"--\", color=\"red\")\n",
    "    ax.plot(np.log2(n_samples), iw_errors, label=\"IW Upper Bound\" if k == 0 else \"\")\n",
    "    ax.set_ylim(-0.01, max(np.max(ic_errors[:L, 0]), np.max(iw_errors)) + 0.1)\n",
    "\n",
    "    ax.set_title(\"$k = {}$\".format(k), fontsize=\"8\",)\n",
    "    loc = plticker.MultipleLocator(base=5.0) # this locator puts ticks at regular intervals\n",
    "    ax.xaxis.set_major_locator(loc)\n",
    "\n",
    "    if row_i < num_rows - 1:\n",
    "        ax.set_xticks([])\n",
    "    if col_i > 0:\n",
    "        ax.set_yticks([])\n",
    "\n",
    "\n",
    "fig.supxlabel(\"$N_x$ (in $\\\\log_2$)\", fontsize=\"8\",)\n",
    "fig.supylabel(\"Loss\", fontsize=\"8\",)\n",
    "fig.legend(\n",
    "    bbox_to_anchor=(0.0, 1.0, 1.0, 0.0),\n",
    "    loc=\"lower center\",\n",
    "    ncols=4,\n",
    "    borderaxespad=0.0,\n",
    "    frameon=True,\n",
    "    fontsize=\"8\", \n",
    ")\n",
    "# plt.plot()\n",
    "\n",
    "plt.savefig(\"toy_example-errors.pdf\", dpi=600, format=\"pdf\", bbox_inches=\"tight\")"
   ]
  },
  {
   "cell_type": "code",
   "execution_count": null,
   "id": "d39c2e80",
   "metadata": {},
   "outputs": [],
   "source": []
  }
 ],
 "metadata": {
  "kernelspec": {
   "display_name": ".venv",
   "language": "python",
   "name": "python3"
  },
  "language_info": {
   "codemirror_mode": {
    "name": "ipython",
    "version": 3
   },
   "file_extension": ".py",
   "mimetype": "text/x-python",
   "name": "python",
   "nbconvert_exporter": "python",
   "pygments_lexer": "ipython3",
   "version": "3.10.14"
  }
 },
 "nbformat": 4,
 "nbformat_minor": 5
}
