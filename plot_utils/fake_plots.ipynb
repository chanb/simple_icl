{
 "cells": [
  {
   "cell_type": "code",
   "execution_count": null,
   "id": "611aa6db-9102-41d8-a575-6da09450a2a2",
   "metadata": {},
   "outputs": [],
   "source": [
    "import _pickle as pickle\n",
    "import math\n",
    "import matplotlib.pyplot as plt\n",
    "import numpy as np\n",
    "import os\n",
    "import pandas as pd\n",
    "import timeit\n",
    "\n",
    "from itertools import product"
   ]
  },
  {
   "cell_type": "code",
   "execution_count": null,
   "id": "e052dfdd",
   "metadata": {},
   "outputs": [],
   "source": [
    "n_samples = np.floor(1 * (2 ** np.arange(6, 18)) ** 2)\n",
    "n_context = 8\n",
    "\n",
    "p_high = np.arange(1, 10, 2)\n",
    "p_high = p_high / (p_high + 1)\n",
    "p_high  = np.concatenate((p_high, np.array([0.99, 0.999])))\n",
    "\n",
    "print(n_samples)\n",
    "print(p_high)"
   ]
  },
  {
   "cell_type": "code",
   "execution_count": null,
   "id": "d17d7bf8",
   "metadata": {},
   "outputs": [],
   "source": [
    "n_high = np.floor(n_samples[:, None] * p_high[None, :])\n",
    "n_low = np.floor(n_samples[:, None] * (1 - p_high[None, :]))"
   ]
  },
  {
   "cell_type": "code",
   "execution_count": null,
   "id": "b20e7cd3",
   "metadata": {},
   "outputs": [],
   "source": [
    "iw_constant = 10\n",
    "error_iw_high = iw_constant / np.sqrt(n_high)\n",
    "error_iw_low = iw_constant / np.sqrt(n_low)"
   ]
  },
  {
   "cell_type": "code",
   "execution_count": null,
   "id": "53e6f92d",
   "metadata": {},
   "outputs": [],
   "source": [
    "p_relevant_high = (n_context - 1) / n_context + p_high / n_context\n",
    "p_relevant_low = (n_context - 1) / n_context + (1 - p_high) / n_context\n",
    "\n",
    "n_relevant_high = np.floor(n_high * p_relevant_high)\n",
    "n_relevant_low = np.floor(n_low * p_relevant_low)"
   ]
  },
  {
   "cell_type": "code",
   "execution_count": null,
   "id": "ca845d72",
   "metadata": {},
   "outputs": [],
   "source": [
    "p_relevant_low, p_relevant_high"
   ]
  },
  {
   "cell_type": "code",
   "execution_count": null,
   "id": "82f543e3",
   "metadata": {},
   "outputs": [],
   "source": [
    "ic_constant = 0.00001\n",
    "error_ic_high = (1 - p_relevant_high) + ic_constant / np.sqrt(n_relevant_high)\n",
    "error_ic_low = (1 - p_relevant_low) + ic_constant / np.clip(np.sqrt(n_relevant_low), a_min=1e-7, a_max=np.inf)"
   ]
  },
  {
   "cell_type": "code",
   "execution_count": null,
   "id": "4eb001fd",
   "metadata": {},
   "outputs": [],
   "source": [
    "np.concatenate((error_ic_high.T[..., None], error_iw_high.T[..., None]), axis=-1)"
   ]
  },
  {
   "cell_type": "code",
   "execution_count": null,
   "id": "1bba2a05",
   "metadata": {},
   "outputs": [],
   "source": [
    "np.concatenate((error_ic_low.T[..., None], error_iw_low.T[..., None]), axis=-1)"
   ]
  },
  {
   "cell_type": "code",
   "execution_count": null,
   "id": "16a0b740",
   "metadata": {},
   "outputs": [],
   "source": [
    "alpha_high = np.argmin(\n",
    "    np.concatenate((error_ic_high[..., None], error_iw_high[..., None]), axis=-1),\n",
    "    axis=-1\n",
    ").T\n",
    "alpha_low = np.argmin(\n",
    "    np.concatenate((error_ic_low[..., None], error_iw_low[..., None]), axis=-1),\n",
    "    axis=-1\n",
    ").T"
   ]
  },
  {
   "cell_type": "code",
   "execution_count": null,
   "id": "781a07b7",
   "metadata": {},
   "outputs": [],
   "source": [
    "alpha_high"
   ]
  },
  {
   "cell_type": "code",
   "execution_count": null,
   "id": "6fd0a001",
   "metadata": {},
   "outputs": [],
   "source": [
    "alpha_low"
   ]
  },
  {
   "cell_type": "code",
   "execution_count": null,
   "id": "33737e01",
   "metadata": {},
   "outputs": [],
   "source": [
    "n_high[0]"
   ]
  },
  {
   "cell_type": "code",
   "execution_count": null,
   "id": "73efa771",
   "metadata": {},
   "outputs": [],
   "source": [
    "p_high"
   ]
  },
  {
   "cell_type": "code",
   "execution_count": null,
   "id": "acbb8002",
   "metadata": {},
   "outputs": [],
   "source": [
    "n_samples.shape"
   ]
  },
  {
   "cell_type": "code",
   "execution_count": null,
   "id": "174dae38",
   "metadata": {},
   "outputs": [],
   "source": [
    "for p_high_i, curr_p_high in enumerate(p_high):\n",
    "    plt.plot(\n",
    "        np.log2(n_samples),\n",
    "        alpha_high[p_high_i] + p_high_i * 0.01,\n",
    "        label=\"{:.3f}\".format(curr_p_high),\n",
    "        marker=\"x\",\n",
    "        linestyle=\"--\",\n",
    "        alpha=1.0\n",
    "    )\n",
    "\n",
    "plt.title(\"High freq.\")\n",
    "plt.xlabel(\"$\\\\log_2$ num. samples\")\n",
    "plt.ylabel(\"$\\\\alpha$\")\n",
    "plt.legend()"
   ]
  },
  {
   "cell_type": "code",
   "execution_count": null,
   "id": "1da7e31b",
   "metadata": {},
   "outputs": [],
   "source": [
    "for p_low_i, curr_p_high in enumerate(p_high):\n",
    "    plt.plot(\n",
    "        np.log2(n_samples),\n",
    "        alpha_low[p_low_i] + p_low_i * 0.01,\n",
    "        label=\"{:.3f}\".format(1 - curr_p_high),\n",
    "        marker=\"x\",\n",
    "        linestyle=\"--\",\n",
    "        alpha=1.0\n",
    "    )\n",
    "\n",
    "plt.title(\"Low freq.\")\n",
    "plt.xlabel(\"$\\\\log_2$ num. samples\")\n",
    "plt.ylabel(\"$\\\\alpha$\")\n",
    "plt.legend()"
   ]
  },
  {
   "cell_type": "code",
   "execution_count": null,
   "id": "16813255",
   "metadata": {},
   "outputs": [],
   "source": []
  }
 ],
 "metadata": {
  "kernelspec": {
   "display_name": ".venv",
   "language": "python",
   "name": "python3"
  },
  "language_info": {
   "codemirror_mode": {
    "name": "ipython",
    "version": 3
   },
   "file_extension": ".py",
   "mimetype": "text/x-python",
   "name": "python",
   "nbconvert_exporter": "python",
   "pygments_lexer": "ipython3",
   "version": "3.10.14"
  }
 },
 "nbformat": 4,
 "nbformat_minor": 5
}
