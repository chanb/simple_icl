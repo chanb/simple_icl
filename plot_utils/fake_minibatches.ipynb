{
 "cells": [
  {
   "cell_type": "code",
   "execution_count": 1,
   "metadata": {},
   "outputs": [],
   "source": [
    "import sys\n",
    "\n",
    "sys.path.insert(0, \"..\")\n",
    "sys.path.insert(0, \"../src\")\n",
    "\n",
    "from experiments.utils import *\n",
    "\n",
    "from src.constants import *\n",
    "from src.dataset import get_data_loader\n",
    "from src.utils import parse_dict, load_config, iterate_models, set_seed\n",
    "\n",
    "from tqdm.notebook import tqdm\n",
    "\n",
    "import _pickle as pickle\n",
    "import json\n",
    "import math\n",
    "import matplotlib.pyplot as plt\n",
    "import matplotlib.ticker as plticker\n",
    "import numpy as np\n",
    "import os\n",
    "import seaborn as sns\n",
    "import pandas as pd\n",
    "import timeit"
   ]
  },
  {
   "cell_type": "code",
   "execution_count": 2,
   "metadata": {},
   "outputs": [],
   "source": [
    "repo_path = \"/Users/chanb/research/ualberta/icl/simple_icl\"\n",
    "results_dir = \"/Users/chanb/research/ualberta/icl/cc_results/paper_experiments/evaluation_results\"\n",
    "templates_dir = os.path.join(repo_path, \"cc_utils\", \"templates\")"
   ]
  },
  {
   "cell_type": "code",
   "execution_count": 69,
   "metadata": {},
   "outputs": [],
   "source": [
    "variant_name = \"omniglot-input_noise\"\n",
    "# variant_name = \"omniglot-p_relevant\"\n",
    "\n",
    "seed = 0\n",
    "dataset_size = 10000\n",
    "p_relevant_context = 0.9\n",
    "input_noise_std = 0.1"
   ]
  },
  {
   "cell_type": "code",
   "execution_count": 70,
   "metadata": {},
   "outputs": [],
   "source": [
    "stats_file = os.path.join(repo_path, \"plot_utils/plots/agg_stats\", \"{}.feather\".format(variant_name))\n",
    "stats = pd.read_feather(stats_file)"
   ]
  },
  {
   "cell_type": "code",
   "execution_count": null,
   "metadata": {},
   "outputs": [],
   "source": [
    "stats"
   ]
  },
  {
   "cell_type": "code",
   "execution_count": 72,
   "metadata": {},
   "outputs": [],
   "source": [
    "set_seed(seed)"
   ]
  },
  {
   "cell_type": "code",
   "execution_count": 73,
   "metadata": {},
   "outputs": [],
   "source": [
    "template_path = os.path.join(templates_dir, \"{}.json\".format(variant_name))"
   ]
  },
  {
   "cell_type": "code",
   "execution_count": null,
   "metadata": {},
   "outputs": [],
   "source": [
    "template_path"
   ]
  },
  {
   "cell_type": "code",
   "execution_count": 75,
   "metadata": {},
   "outputs": [],
   "source": [
    "config_dict = json.load(open(template_path))"
   ]
  },
  {
   "cell_type": "code",
   "execution_count": null,
   "metadata": {},
   "outputs": [],
   "source": [
    "config_dict"
   ]
  },
  {
   "cell_type": "code",
   "execution_count": 77,
   "metadata": {},
   "outputs": [],
   "source": [
    "config_dict[\"seeds\"][\"data_seed\"] = seed\n",
    "config_dict[\"dataset_kwargs\"][\"dataset_size\"] = dataset_size\n",
    "config_dict[\"dataset_kwargs\"][\"p_relevant_context\"] = p_relevant_context\n",
    "config_dict[\"dataset_kwargs\"][\"input_noise_std\"] = input_noise_std\n",
    "config_dict[\"dataset_kwargs\"][\"exemplar\"] = \"heldout\"\n"
   ]
  },
  {
   "cell_type": "code",
   "execution_count": 78,
   "metadata": {},
   "outputs": [],
   "source": [
    "config = parse_dict(config_dict)"
   ]
  },
  {
   "cell_type": "code",
   "execution_count": null,
   "metadata": {},
   "outputs": [],
   "source": [
    "loader, dataset = get_data_loader(config)"
   ]
  },
  {
   "cell_type": "code",
   "execution_count": null,
   "metadata": {},
   "outputs": [],
   "source": [
    "np.mean(dataset.targets[:, -1] >= 20)"
   ]
  },
  {
   "cell_type": "code",
   "execution_count": null,
   "metadata": {},
   "outputs": [],
   "source": [
    "np.unique(dataset.targets[:, -1], return_counts=True)[1][20:]"
   ]
  },
  {
   "cell_type": "code",
   "execution_count": null,
   "metadata": {},
   "outputs": [],
   "source": [
    "plt.bar(np.arange(0, 1603), np.unique(dataset.targets[:, -1], return_counts=True)[1][20:])\n",
    "plt.title(\"{}\".format(dataset_size))"
   ]
  },
  {
   "cell_type": "code",
   "execution_count": null,
   "metadata": {},
   "outputs": [],
   "source": [
    "np.min(np.unique(dataset.targets[:, -1], return_counts=True)[1][20:]), np.max(np.unique(dataset.targets[:, -1], return_counts=True)[1][20:])"
   ]
  },
  {
   "cell_type": "code",
   "execution_count": null,
   "metadata": {},
   "outputs": [],
   "source": [
    "plt.bar(np.arange(0, 1603), np.unique(dataset.targets[:, -1], return_counts=True)[1][20:])\n",
    "plt.title(\"{}\".format(dataset_size))"
   ]
  },
  {
   "cell_type": "code",
   "execution_count": null,
   "metadata": {},
   "outputs": [],
   "source": [
    "np.min(np.unique(dataset.targets[:, -1], return_counts=True)[1][20:]), np.max(np.unique(dataset.targets[:, -1], return_counts=True)[1][20:])"
   ]
  },
  {
   "cell_type": "code",
   "execution_count": null,
   "metadata": {},
   "outputs": [],
   "source": [
    "np.mean(dataset.targets[:, -1] >= 20)"
   ]
  },
  {
   "cell_type": "code",
   "execution_count": 14,
   "metadata": {},
   "outputs": [],
   "source": [
    "batch_size = config.batch_size\n",
    "# checkpoint_interval = config.logging_config.checkpoint_interval\n",
    "# num_epochs = config.num_epochs\n",
    "num_epochs = 10000\n",
    "checkpoint_interval = 1\n",
    "num_high_freq_class = config.dataset_kwargs.num_high_prob_classes"
   ]
  },
  {
   "cell_type": "code",
   "execution_count": 15,
   "metadata": {},
   "outputs": [],
   "source": [
    "# 1292 5 20 1192 19280 13180\n"
   ]
  },
  {
   "cell_type": "code",
   "execution_count": null,
   "metadata": {},
   "outputs": [],
   "source": [
    "batches = []\n",
    "for epoch_i in tqdm(range(num_epochs)):\n",
    "    batch = next(loader)\n",
    "    if (epoch_i + 1) % checkpoint_interval == 0:\n",
    "        target = batch[\"target\"]\n",
    "        labels = np.argmax(target, axis=-1)\n",
    "\n",
    "        num_relevant_contexts = np.sum(labels[:, :-1] == labels[:, [-1]], axis=-1)\n",
    "        high_freq_classes = labels[:, -1] <= num_high_freq_class\n",
    "        batches.append(dict(\n",
    "            num_relevant_contexts=num_relevant_contexts.astype(np.uint8),\n",
    "            targets=labels[:, -1].astype(np.uint16),\n",
    "        ))"
   ]
  },
  {
   "cell_type": "code",
   "execution_count": null,
   "metadata": {},
   "outputs": [],
   "source": [
    "batches"
   ]
  },
  {
   "cell_type": "code",
   "execution_count": 18,
   "metadata": {},
   "outputs": [],
   "source": [
    "# out_dir = os.path.join(os.path.dirname(results_dir), \"training_info\")\n",
    "# os.makedirs(out_dir, exist_ok=True)\n",
    "# pickle.dump(\n",
    "#     batches,\n",
    "#     open(\n",
    "#         os.path.join(out_dir, \"{}-seed_{}-dataset_size_{}-p_relevant_context_{}-input_noise_std_{}.pkl\".format(\n",
    "#             variant_name,\n",
    "#             seed,\n",
    "#             dataset_size,\n",
    "#             p_relevant_context,\n",
    "#             input_noise_std,\n",
    "#         )),\n",
    "#         \"wb\"\n",
    "#     )\n",
    "# )"
   ]
  },
  {
   "cell_type": "code",
   "execution_count": 27,
   "metadata": {},
   "outputs": [],
   "source": [
    "batches = {key: [i[key].tolist() for i in batches] for key in batches[0]}"
   ]
  },
  {
   "cell_type": "code",
   "execution_count": 33,
   "metadata": {},
   "outputs": [],
   "source": [
    "num_relevant_contexts = np.array(batches[\"num_relevant_contexts\"])\n",
    "targets = np.array(batches[\"targets\"])"
   ]
  },
  {
   "cell_type": "code",
   "execution_count": null,
   "metadata": {},
   "outputs": [],
   "source": [
    "num_relevant_contexts.shape"
   ]
  },
  {
   "cell_type": "code",
   "execution_count": 39,
   "metadata": {},
   "outputs": [],
   "source": [
    "low_freq_classes = targets > 20"
   ]
  },
  {
   "cell_type": "code",
   "execution_count": 40,
   "metadata": {},
   "outputs": [],
   "source": [
    "num_low_freq_classes = np.sum(low_freq_classes, axis=0)"
   ]
  },
  {
   "cell_type": "code",
   "execution_count": null,
   "metadata": {},
   "outputs": [],
   "source": [
    "np.cumsum(num_low_freq_classes) / (np.arange(1, len(num_low_freq_classes) + 1) * batch_size)"
   ]
  },
  {
   "cell_type": "code",
   "execution_count": null,
   "metadata": {},
   "outputs": [],
   "source": [
    "targets"
   ]
  },
  {
   "cell_type": "code",
   "execution_count": 48,
   "metadata": {},
   "outputs": [],
   "source": [
    "unique_targets, counts = np.unique(targets, return_counts=True)"
   ]
  },
  {
   "cell_type": "code",
   "execution_count": 49,
   "metadata": {},
   "outputs": [],
   "source": [
    "low_freq_class_idxes = unique_targets > 20"
   ]
  },
  {
   "cell_type": "code",
   "execution_count": null,
   "metadata": {},
   "outputs": [],
   "source": [
    "counts[low_freq_class_idxes]"
   ]
  },
  {
   "cell_type": "code",
   "execution_count": null,
   "metadata": {},
   "outputs": [],
   "source": []
  }
 ],
 "metadata": {
  "kernelspec": {
   "display_name": ".venv",
   "language": "python",
   "name": "python3"
  },
  "language_info": {
   "codemirror_mode": {
    "name": "ipython",
    "version": 3
   },
   "file_extension": ".py",
   "mimetype": "text/x-python",
   "name": "python",
   "nbconvert_exporter": "python",
   "pygments_lexer": "ipython3",
   "version": "3.10.14"
  }
 },
 "nbformat": 4,
 "nbformat_minor": 2
}
