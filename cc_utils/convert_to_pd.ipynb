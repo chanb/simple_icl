{
 "cells": [
  {
   "cell_type": "code",
   "execution_count": null,
   "id": "611aa6db-9102-41d8-a575-6da09450a2a2",
   "metadata": {},
   "outputs": [],
   "source": [
    "import _pickle as pickle\n",
    "import matplotlib.pyplot as plt\n",
    "import numpy as np\n",
    "import os\n",
    "import pandas as pd\n",
    "import timeit\n",
    "\n",
    "from tqdm.notebook import tqdm"
   ]
  },
  {
   "cell_type": "code",
   "execution_count": null,
   "id": "d1b7a68a-60d0-4758-b3f9-b5ef665b2722",
   "metadata": {},
   "outputs": [],
   "source": [
    "stats_keys = [\n",
    "    \"accuracy\",\n",
    "    \"p_iwl\",\n",
    "    \"context contains query class\",\n",
    "    \"ic_pred\",\n",
    "    \"iw_pred\",\n",
    "]"
   ]
  },
  {
   "cell_type": "code",
   "execution_count": null,
   "id": "f33f59dd",
   "metadata": {},
   "outputs": [],
   "source": [
    "repo_path = \"/Users/chanb/research/ualberta/simple_icl\"\n",
    "results_dir = \"/Users/chanb/research/ualberta/simple_icl/results/simple_icl/results\"\n",
    "\n",
    "# repo_path = \"/home/chanb/src/simple_icl\"\n",
    "# results_dir = \"/home/chanb/scratch/simple_icl/results\""
   ]
  },
  {
   "cell_type": "code",
   "execution_count": null,
   "id": "4e5fe6a4-d543-4e4e-9857-94bb492adc70",
   "metadata": {},
   "outputs": [],
   "source": [
    "# variant_name = \"simple_icl-fixed_g\"\n",
    "variant_name = \"simple_icl-learned_g\"\n",
    "\n",
    "os.makedirs(\n",
    "    os.path.join(repo_path, \"cc_utils/agg_stats\"),\n",
    "    exist_ok=True\n",
    ")\n",
    "results_dir = os.path.join(results_dir, variant_name)"
   ]
  },
  {
   "cell_type": "code",
   "execution_count": null,
   "id": "20cf71d4-8e3a-4733-bd0c-4848c06b6cb9",
   "metadata": {
    "tags": []
   },
   "outputs": [],
   "source": [
    "stats_file = os.path.join(repo_path, \"cc_utils/agg_stats\", \"{}.feather\".format(variant_name))\n",
    "if os.path.isfile(stats_file):\n",
    "    stats = pd.read_feather(stats_file)\n",
    "else:\n",
    "    stats = []\n",
    "\n",
    "    if repo_path.startswith(\"/Users\"):\n",
    "        it = tqdm(os.listdir(results_dir))\n",
    "    else:\n",
    "        it = os.listdir(results_dir)\n",
    "\n",
    "    for run_name in it:\n",
    "        tic = timeit.default_timer()\n",
    "\n",
    "        prefix = \"-\".join(run_name.split(\"-\")[:-9])\n",
    "        seed = run_name.split(\"-\")[-9]\n",
    "\n",
    "        data = pickle.load(open(os.path.join(results_dir, run_name, \"evaluation.pkl\"), \"rb\"))\n",
    "        for eval_name in data[\"stats\"]:\n",
    "            for stats_key in stats_keys:\n",
    "                stats.append(\n",
    "                    dict(\n",
    "                        variant=prefix,\n",
    "                        seed=seed,\n",
    "                        eval_name=eval_name,\n",
    "                        stats_key=stats_key,\n",
    "                        stats=[float(val) for val in data[\"stats\"][eval_name][stats_key]],\n",
    "                        **{\n",
    "                            \"_\".join(key_val.split(\"_\")[:-1]): key_val.split(\"_\")[-1] for key_val in prefix.split(\"-\")\n",
    "                        },\n",
    "                    )\n",
    "                )\n",
    "\n",
    "        toc = timeit.default_timer()\n",
    "    stats = pd.DataFrame(stats)\n",
    "    stats.to_feather(os.path.join(repo_path, \"cc_utils/agg_stats\", \"{}.feather\".format(variant_name)))"
   ]
  },
  {
   "cell_type": "code",
   "execution_count": null,
   "id": "0de4892c",
   "metadata": {},
   "outputs": [],
   "source": [
    "len(stats)"
   ]
  },
  {
   "cell_type": "code",
   "execution_count": null,
   "id": "3e271678",
   "metadata": {},
   "outputs": [],
   "source": [
    "stats.info()"
   ]
  },
  {
   "cell_type": "code",
   "execution_count": null,
   "id": "87a0369a-d1d9-4e2a-a968-b34bd1779db1",
   "metadata": {},
   "outputs": [],
   "source": [
    "stats"
   ]
  },
  {
   "cell_type": "code",
   "execution_count": null,
   "id": "30289046",
   "metadata": {},
   "outputs": [],
   "source": []
  }
 ],
 "metadata": {
  "kernelspec": {
   "display_name": ".venv",
   "language": "python",
   "name": "python3"
  },
  "language_info": {
   "codemirror_mode": {
    "name": "ipython",
    "version": 3
   },
   "file_extension": ".py",
   "mimetype": "text/x-python",
   "name": "python",
   "nbconvert_exporter": "python",
   "pygments_lexer": "ipython3",
   "version": "3.10.14"
  }
 },
 "nbformat": 4,
 "nbformat_minor": 5
}
