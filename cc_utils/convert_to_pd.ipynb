{
 "cells": [
  {
   "cell_type": "code",
   "execution_count": null,
   "id": "611aa6db-9102-41d8-a575-6da09450a2a2",
   "metadata": {},
   "outputs": [],
   "source": [
    "import _pickle as pickle\n",
    "import matplotlib.pyplot as plt\n",
    "import numpy as np\n",
    "import os\n",
    "import pandas as pd\n",
    "import timeit"
   ]
  },
  {
   "cell_type": "code",
   "execution_count": null,
   "id": "d1b7a68a-60d0-4758-b3f9-b5ef665b2722",
   "metadata": {},
   "outputs": [],
   "source": [
    "stats_keys = [\n",
    "    \"accuracy\",\n",
    "    \"p_iwl\",\n",
    "    \"diff last context\",\n",
    "    \"ic_pred\",\n",
    "    \"iw_pred\",\n",
    "]"
   ]
  },
  {
   "cell_type": "code",
   "execution_count": null,
   "id": "4e5fe6a4-d543-4e4e-9857-94bb492adc70",
   "metadata": {},
   "outputs": [],
   "source": [
    "variant_name = \"simple_icl-default\"\n",
    "\n",
    "os.makedirs(\n",
    "    os.path.join(\"/home/chanb/src/simple_icl/cc_utils/agg_stats\", variant_name),\n",
    "    exist_ok=True\n",
    ")\n",
    "\n",
    "results_dir = \"/home/chanb/scratch/simple_icl/old-results/{}\".format(variant_name)"
   ]
  },
  {
   "cell_type": "code",
   "execution_count": null,
   "id": "20cf71d4-8e3a-4733-bd0c-4848c06b6cb9",
   "metadata": {
    "tags": []
   },
   "outputs": [],
   "source": [
    "stats = []\n",
    "for run_name in os.listdir(results_dir):\n",
    "    tic = timeit.default_timer()\n",
    "\n",
    "    prefix = \"-\".join(run_name.split(\"-\")[:-9])\n",
    "    seed = run_name.split(\"-\")[-9]\n",
    "\n",
    "    data = pickle.load(open(os.path.join(run_name, \"evaluation.pkl\"), \"rb\"))\n",
    "    for eval_name in data[\"stats\"]:\n",
    "        for stats_key in stats_keys:\n",
    "            stats.append(\n",
    "                dict(\n",
    "                    variant=prefix,\n",
    "                    seed=seed,\n",
    "                    eval_name=eval_name,\n",
    "                    stats_key=stats_key,\n",
    "                    stats=data[\"stats\"][eval_name][stats_key],\n",
    "                )\n",
    "            )\n",
    "\n",
    "    toc = timeit.default_timer()\n",
    "    print(\"Done {} in {}s\".format(run_name, toc - tic))\n"
   ]
  },
  {
   "cell_type": "code",
   "execution_count": null,
   "id": "4789fd13-0f9d-4859-832e-8c7ca7dd739a",
   "metadata": {},
   "outputs": [],
   "source": [
    "stats = pd.DataFrame(stats)"
   ]
  },
  {
   "cell_type": "code",
   "execution_count": null,
   "id": "87a0369a-d1d9-4e2a-a968-b34bd1779db1",
   "metadata": {},
   "outputs": [],
   "source": [
    "stats"
   ]
  },
  {
   "cell_type": "code",
   "execution_count": null,
   "id": "91013be7-63d7-4000-9c25-823707b0147c",
   "metadata": {},
   "outputs": [],
   "source": [
    "curr_stats = pd.DataFrame(stats[\"pretrain-sample_high_prob_class_only-start_pos_0\"].tolist())"
   ]
  },
  {
   "cell_type": "code",
   "execution_count": null,
   "id": "078dc406-f421-4dad-a8bf-f46859eb2d38",
   "metadata": {},
   "outputs": [],
   "source": [
    "curr_stats"
   ]
  },
  {
   "cell_type": "code",
   "execution_count": null,
   "id": "8103cd89-ef64-4fc4-bdb5-d95385a7196c",
   "metadata": {},
   "outputs": [],
   "source": [
    "curr_stats[\"accuracy\"]"
   ]
  },
  {
   "cell_type": "code",
   "execution_count": null,
   "id": "a9b12d67-35f6-4898-b35d-b6e50d655141",
   "metadata": {},
   "outputs": [],
   "source": []
  }
 ],
 "metadata": {
  "kernelspec": {
   "display_name": "Python 3.10 Kernel for ICL",
   "language": "python",
   "name": "simple_icl_kernel"
  },
  "language_info": {
   "codemirror_mode": {
    "name": "ipython",
    "version": 3
   },
   "file_extension": ".py",
   "mimetype": "text/x-python",
   "name": "python",
   "nbconvert_exporter": "python",
   "pygments_lexer": "ipython3",
   "version": "3.10.2"
  }
 },
 "nbformat": 4,
 "nbformat_minor": 5
}
