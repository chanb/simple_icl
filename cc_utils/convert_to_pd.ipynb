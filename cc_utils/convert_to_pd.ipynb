{
 "cells": [
  {
   "cell_type": "code",
   "execution_count": 1,
   "id": "611aa6db-9102-41d8-a575-6da09450a2a2",
   "metadata": {},
   "outputs": [],
   "source": [
    "import _pickle as pickle\n",
    "import matplotlib.pyplot as plt\n",
    "import numpy as np\n",
    "import os\n",
    "import pandas as pd\n",
    "import timeit"
   ]
  },
  {
   "cell_type": "code",
   "execution_count": 2,
   "id": "d1b7a68a-60d0-4758-b3f9-b5ef665b2722",
   "metadata": {},
   "outputs": [],
   "source": [
    "stats_keys = [\n",
    "    \"accuracy\",\n",
    "    \"p_iwl\",\n",
    "    \"diff last context\",\n",
    "    \"ic_pred\",\n",
    "    \"iw_pred\",\n",
    "]"
   ]
  },
  {
   "cell_type": "code",
   "execution_count": 3,
   "id": "4e5fe6a4-d543-4e4e-9857-94bb492adc70",
   "metadata": {},
   "outputs": [],
   "source": [
    "variant_name = \"simple_icl-fixed_g\"\n",
    "\n",
    "os.makedirs(\n",
    "    \"/home/chanb/src/simple_icl/cc_utils/agg_stats\",\n",
    "    exist_ok=True\n",
    ")\n",
    "\n",
    "results_dir = \"/home/chanb/scratch/simple_icl/results/{}\".format(variant_name)"
   ]
  },
  {
   "cell_type": "code",
   "execution_count": null,
   "id": "20cf71d4-8e3a-4733-bd0c-4848c06b6cb9",
   "metadata": {
    "tags": []
   },
   "outputs": [
    {
     "name": "stdout",
     "output_type": "stream",
     "text": [
      "Done high_prob_0.67-ground_truth_prob_1.0-seed_2-09-01-24_14_33_42-d83d532c-2362-401d-bec3-0fe7ebe9ea86 in 5.600146490964107s\n",
      "Done high_prob_0.8-ground_truth_prob_0.1-seed_6-09-01-24_14_38_49-45505e22-e07c-4338-a719-e64bfdb7d3c2 in 5.159774504019879s\n",
      "Done high_prob_0.9-ground_truth_prob_0.9-seed_8-09-01-24_14_39_59-9a2da965-d4bc-4f81-853b-2b7331bf4a73 in 4.991134651936591s\n",
      "Done high_prob_0.8-ground_truth_prob_0.75-seed_3-09-01-24_14_36_04-98ce4c13-fabc-4d1e-b38e-964d526ec485 in 5.214175465982407s\n",
      "Done high_prob_0.8-ground_truth_prob_0.1-seed_5-09-01-24_14_38_09-8360cb25-e560-45e3-9cf1-9a399085fd2a in 4.882570157991722s\n",
      "Done high_prob_0.9-ground_truth_prob_0.25-seed_4-09-01-24_14_36_40-ab4112d1-873f-42bc-bb13-b3dd94cac5ac in 4.894950699992478s\n",
      "Done high_prob_0.99-ground_truth_prob_0.0-seed_2-09-01-24_14_34_30-ac425b6e-62c3-469d-9980-66aaee14b2fe in 4.900218411930837s\n",
      "Done high_prob_0.75-ground_truth_prob_0.1-seed_1-09-01-24_14_32_28-027c99b1-b5bc-40c5-a912-8dd3e02dce02 in 5.888120434014127s\n",
      "Done high_prob_0.9-ground_truth_prob_0.9-seed_5-09-01-24_14_38_22-a5ff464e-220e-4648-af57-160797db7a0c in 5.296228784020059s\n",
      "Done high_prob_0.5-ground_truth_prob_0.25-seed_5-09-01-24_14_37_20-8e9818a8-da2e-4905-ab1e-906d1c27e85c in 5.26525113300886s\n",
      "Done high_prob_0.67-ground_truth_prob_0.0-seed_1-09-01-24_14_32_20-9ec3ae0c-e44e-4da0-8d00-a4f95e8d8bba in 5.376672232989222s\n",
      "Done high_prob_0.67-ground_truth_prob_0.1-seed_9-09-01-24_14_40_15-d21c7153-95b2-46ce-97cf-f2f374865676 in 4.261071524000727s\n",
      "Done high_prob_0.99-ground_truth_prob_0.1-seed_6-09-01-24_14_38_54-833b9d75-0aa9-4e46-abf4-f24a17422fdb in 5.537333649001084s\n",
      "Done high_prob_0.9-ground_truth_prob_0.5-seed_6-09-01-24_14_38_54-4e6246a5-0627-495a-a039-cb445300937c in 5.5596120660193264s\n",
      "Done high_prob_0.67-ground_truth_prob_0.25-seed_9-09-01-24_14_40_30-d4e7b5b9-c64b-4906-9ccf-ece6cf9ac4c4 in 4.301895807031542s\n",
      "Done high_prob_0.8-ground_truth_prob_0.9-seed_9-09-01-24_14_40_46-9c613436-d04d-4b4d-8857-b2f2b86060b9 in 5.73185778898187s\n",
      "Done high_prob_0.75-ground_truth_prob_0.1-seed_4-09-01-24_14_36_27-33f5c065-c33d-42f2-811a-92a87f7a5eb2 in 4.680335166980512s\n",
      "Done high_prob_0.8-ground_truth_prob_0.1-seed_1-09-01-24_14_32_57-459c9e90-b294-423a-a244-1ddd21e39dd9 in 5.663557321066037s\n",
      "Done high_prob_0.9-ground_truth_prob_0.25-seed_9-09-01-24_14_40_46-66e987d4-c26c-40dc-84e6-aeba41d1864f in 4.248682770063169s\n",
      "Done high_prob_0.99-ground_truth_prob_0.5-seed_7-09-01-24_14_39_29-8870c951-04e0-4f5b-89e1-81f757ecc8e4 in 6.074793589999899s\n",
      "Done high_prob_0.9-ground_truth_prob_0.75-seed_9-09-01-24_14_40_50-602901d9-9a1d-42df-abe1-eb69d4a8343b in 4.409430713043548s\n",
      "Done high_prob_0.67-ground_truth_prob_0.25-seed_3-09-01-24_14_35_32-b1a24d84-2ae8-4bfc-9023-ba897df20817 in 6.281444099033251s\n",
      "Done high_prob_0.5-ground_truth_prob_0.1-seed_0-09-01-24_14_30_36-393a0e28-5cdb-4521-8333-fcd386c761cf in 4.468391296919435s\n",
      "Done high_prob_0.75-ground_truth_prob_0.9-seed_4-09-01-24_14_42_06-af0d6b8c-93c9-4afb-b947-dfc8bb2dac7b in 4.31891887402162s\n",
      "Done high_prob_0.75-ground_truth_prob_0.25-seed_7-09-01-24_14_39_02-76490c97-59de-4dae-bdee-0c1edf4f3c71 in 6.283320721006021s\n",
      "Done high_prob_0.99-ground_truth_prob_0.75-seed_1-09-01-24_14_34_59-73aed166-d4dd-47fd-a1a2-66a53a12da60 in 5.12830522202421s\n",
      "Done high_prob_0.75-ground_truth_prob_0.25-seed_3-09-01-24_14_35_21-26fb9b47-2c7d-4f2e-af7e-6c985841cb67 in 5.393248736974783s\n",
      "Done high_prob_0.75-ground_truth_prob_0.75-seed_9-09-01-24_14_40_49-d2f558c3-a1f6-45fd-88c0-f31e8d6f3d57 in 6.440245708916336s\n",
      "Done high_prob_0.8-ground_truth_prob_0.9-seed_1-09-01-24_14_32_57-2e79e6e4-19ed-48b3-944f-dea8486c331a in 4.7602266549365595s\n",
      "Done high_prob_0.67-ground_truth_prob_0.75-seed_8-09-01-24_14_40_15-0bbba212-033e-4c04-bbff-7b14dfe0b096 in 4.580617744009942s\n",
      "Done high_prob_0.67-ground_truth_prob_0.9-seed_6-09-01-24_14_38_34-3166acae-37c1-4f2e-9a51-27d4df2e6ddc in 6.687674295040779s\n",
      "Done high_prob_0.9-ground_truth_prob_0.1-seed_2-09-01-24_14_34_30-77609733-dfe2-4209-a068-8dfabbb3182c in 4.341654472984374s\n",
      "Done high_prob_0.8-ground_truth_prob_0.5-seed_5-09-01-24_14_38_09-10a30390-8614-4834-a996-56babea99aed in 4.232944160001352s\n",
      "Done high_prob_0.67-ground_truth_prob_0.5-seed_6-09-01-24_14_38_35-1b3c9add-8ebe-45a0-91fe-02a016251425 in 6.897082578972913s\n",
      "Done high_prob_0.75-ground_truth_prob_0.5-seed_6-09-01-24_14_38_41-cb56171d-08d1-42ec-bf19-f8a9ae24a8cf in 4.111380472080782s\n",
      "Done high_prob_0.9-ground_truth_prob_0.25-seed_2-09-01-24_14_34_30-7c33fcef-545f-44ba-8d8d-7dd4faea5ff4 in 4.1203881109831855s\n",
      "Done high_prob_0.67-ground_truth_prob_0.5-seed_2-09-01-24_14_33_42-e41f8347-10c6-467b-b7f5-5b5fbdba7579 in 4.120981886982918s\n",
      "Done high_prob_0.67-ground_truth_prob_0.5-seed_3-09-01-24_14_35_32-0f9baf5e-22b5-449b-8e0e-342059ab9601 in 7.152945440961048s\n",
      "Done high_prob_0.99-ground_truth_prob_0.25-seed_6-09-01-24_14_38_54-12f9a792-d2d6-4912-946c-4c984180466e in 4.475963021977805s\n",
      "Done high_prob_0.99-ground_truth_prob_0.5-seed_8-09-01-24_14_40_09-2a7fbeae-503e-46fb-87b3-816739dd4285 in 4.307397308992222s\n",
      "Done high_prob_0.9-ground_truth_prob_0.75-seed_1-09-01-24_14_33_12-903d5df5-99b8-4be4-823f-bf7936273aa3 in 4.43131486303173s\n",
      "Done high_prob_0.99-ground_truth_prob_0.1-seed_7-09-01-24_14_39_23-8c58bf71-b54f-4b8c-bff4-1a070428c82c in 7.774143066024408s\n",
      "Done high_prob_0.99-ground_truth_prob_0.0-seed_1-09-01-24_14_33_12-3c77b1cb-34f8-4d0e-bf42-ef400908a3d4 in 5.4448790840106085s\n",
      "Done high_prob_0.8-ground_truth_prob_0.1-seed_0-09-01-24_14_32_16-abd52f26-ced1-4ec0-986f-58257f5ffc04 in 4.265921293059364s\n",
      "Done high_prob_0.67-ground_truth_prob_0.25-seed_0-09-01-24_14_30_36-06f1d42c-9334-4f7e-a2c2-f762c4de5e15 in 4.349011849961244s\n",
      "Done high_prob_0.5-ground_truth_prob_0.75-seed_4-09-01-24_14_36_21-128809c6-9942-4d97-bd1e-90218f0cd3de in 4.4418689460726455s\n",
      "Done high_prob_0.8-ground_truth_prob_0.5-seed_8-09-01-24_14_39_57-6ad51845-c5e8-41d9-b63e-392e0cc0bb7b in 8.302176977973431s\n",
      "Done high_prob_0.9-ground_truth_prob_0.25-seed_3-09-01-24_14_36_04-db2044b9-fcb5-4613-b9b8-41567787e59c in 5.050966938026249s\n",
      "Done high_prob_0.9-ground_truth_prob_0.75-seed_8-09-01-24_14_39_59-e6e83a78-af75-4b61-b552-8a866dd01340 in 4.368430359987542s\n",
      "Done high_prob_0.67-ground_truth_prob_0.25-seed_8-09-01-24_14_39_49-7479d0aa-7960-4386-bde8-0e77bec6c35a in 4.264281012001447s\n",
      "Done high_prob_0.67-ground_truth_prob_0.5-seed_5-09-01-24_14_38_05-32e7b79a-a115-414f-97a9-490e68fe2930 in 8.700482340995222s\n",
      "Done high_prob_0.67-ground_truth_prob_1.0-seed_0-09-01-24_14_30_49-72e8a063-6938-4376-85a3-d3cb2d1dc4ff in 4.2349446170264855s\n",
      "Done high_prob_0.9-ground_truth_prob_0.1-seed_8-09-01-24_14_39_57-58523906-1a2d-4186-a161-6a349e42a088 in 5.025092180934735s\n",
      "Done high_prob_0.99-ground_truth_prob_0.9-seed_6-09-01-24_14_38_54-f6159ac1-b189-4ff6-9405-685128bedcb6 in 4.608928460045718s\n",
      "Done high_prob_0.75-ground_truth_prob_0.5-seed_9-09-01-24_14_40_50-5699124d-3738-4306-93ea-ffc7e86228bf in 4.415269174030982s\n",
      "Done high_prob_0.99-ground_truth_prob_0.0-seed_9-09-01-24_14_40_52-c3965246-c345-4588-8200-e51fe8b05715 in 4.451252188999206s\n",
      "Done high_prob_0.67-ground_truth_prob_0.0-seed_7-09-01-24_14_39_01-ab7e9628-eb44-4a3c-8d34-f5616535a161 in 9.12595185788814s\n",
      "Done high_prob_0.8-ground_truth_prob_0.0-seed_9-09-01-24_14_40_41-49934e67-791c-44a9-bf2f-58a1a126384f in 4.37080972106196s\n",
      "Done high_prob_0.99-ground_truth_prob_0.75-seed_6-09-01-24_14_38_54-b78a7b3a-46f3-4990-91a6-813b1ad37adb in 4.41971438692417s\n",
      "Done high_prob_0.9-ground_truth_prob_1.0-seed_7-09-01-24_14_39_20-bcded604-8bfa-405d-b5cb-9607d1fe3491 in 4.490783802000806s\n",
      "Done high_prob_0.5-ground_truth_prob_0.25-seed_1-09-01-24_14_32_18-b0a27b2c-231e-43c4-bbc9-3a69dd4ac76a in 4.472485912032425s\n",
      "Done high_prob_0.75-ground_truth_prob_0.75-seed_6-09-01-24_14_38_49-79e5b0c7-4128-4593-a34a-20ba6559da86 in 4.492343983030878s\n",
      "Done high_prob_0.9-ground_truth_prob_1.0-seed_4-09-01-24_14_36_40-eab183f1-6c92-4a8b-ade8-5b0cb043e368 in 9.973695329972543s\n",
      "Done high_prob_0.9-ground_truth_prob_0.0-seed_5-09-01-24_14_38_09-ff44660f-471b-4911-8e6d-1def2ec618a9 in 4.341380903031677s\n",
      "Done high_prob_0.99-ground_truth_prob_0.75-seed_4-09-01-24_14_36_42-09e04926-adea-49b8-9895-2f72a8a68708 in 4.327388411038555s\n",
      "Done high_prob_0.9-ground_truth_prob_0.25-seed_5-09-01-24_14_38_19-e9d60de9-0bd9-46fc-a249-79ace1ad23f2 in 5.190610632067546s\n",
      "Done high_prob_0.75-ground_truth_prob_0.1-seed_3-09-01-24_14_35_21-bb4d9be8-f0f2-4fb3-be7e-7b8e2f5914ef in 4.528636532020755s\n",
      "Done high_prob_0.99-ground_truth_prob_0.9-seed_3-09-01-24_14_35_47-a4f78756-2bef-4c08-8e0e-dd33785669ae in 4.25284038297832s\n",
      "Done high_prob_0.8-ground_truth_prob_0.5-seed_7-09-01-24_14_39_14-12831d43-a64f-4acb-95ed-839dff506b74 in 10.1787687279284s\n",
      "Done high_prob_0.99-ground_truth_prob_0.25-seed_9-09-01-24_14_40_54-a3b00af6-7f2a-43a6-9994-0c39aff30b5b in 4.773878301028162s\n",
      "Done high_prob_0.5-ground_truth_prob_0.9-seed_5-09-01-24_14_37_55-b5380bed-f71f-4239-9a61-c2026f82e2ef in 4.6159788890508935s\n",
      "Done high_prob_0.5-ground_truth_prob_0.9-seed_2-09-01-24_14_33_55-1f16f0f2-6f03-41b0-bbf0-657537b576ae in 4.450427964096889s\n",
      "Done high_prob_0.99-ground_truth_prob_0.9-seed_2-09-01-24_14_34_48-7122192a-d872-4650-a54c-28fe0f6210bf in 4.64863982796669s\n",
      "Done high_prob_0.67-ground_truth_prob_0.25-seed_6-09-01-24_14_38_37-00bd165f-1bb6-4dac-9ed4-de7e0e16f0d0 in 4.323939546011388s\n",
      "Done high_prob_0.5-ground_truth_prob_0.5-seed_5-09-01-24_14_37_33-aa6940e4-c3d0-4dde-9692-e32750b3424c in 4.690609795041382s\n",
      "Done high_prob_0.67-ground_truth_prob_0.75-seed_1-09-01-24_14_32_21-f36b34a5-88ca-492b-b551-7664043c5aa0 in 5.192580844042823s\n",
      "Done high_prob_0.9-ground_truth_prob_0.9-seed_2-09-01-24_14_34_30-f8763137-5cb9-4a4b-bf03-15b912bbbd61 in 11.47161018603947s\n",
      "Done high_prob_0.75-ground_truth_prob_0.75-seed_2-09-01-24_14_33_48-113a0ba7-bc78-4640-acea-8a8acd6964a4 in 4.531754909083247s\n",
      "Done high_prob_0.75-ground_truth_prob_1.0-seed_0-09-01-24_14_30_48-eb7c5487-946f-4591-a325-9bd85adbe313 in 4.410049607977271s\n",
      "Done high_prob_0.67-ground_truth_prob_0.0-seed_6-09-01-24_14_38_33-9e5ba959-02cd-43a5-93c3-04da2234a60e in 4.529537632013671s\n",
      "Done high_prob_0.99-ground_truth_prob_0.9-seed_1-09-01-24_14_34_59-72bed05f-26e1-4993-8161-7a1d89d8b09a in 4.545384101103991s\n"
     ]
    }
   ],
   "source": [
    "stats = []\n",
    "for run_name in os.listdir(results_dir):\n",
    "    tic = timeit.default_timer()\n",
    "\n",
    "    prefix = \"-\".join(run_name.split(\"-\")[:-9])\n",
    "    seed = run_name.split(\"-\")[-9]\n",
    "\n",
    "    data = pickle.load(open(os.path.join(results_dir, run_name, \"evaluation.pkl\"), \"rb\"))\n",
    "    for eval_name in data[\"stats\"]:\n",
    "        for stats_key in stats_keys:\n",
    "            stats.append(\n",
    "                dict(\n",
    "                    variant=prefix,\n",
    "                    seed=seed,\n",
    "                    eval_name=eval_name,\n",
    "                    stats_key=stats_key,\n",
    "                    stats=data[\"stats\"][eval_name][stats_key],\n",
    "                )\n",
    "            )\n",
    "\n",
    "    toc = timeit.default_timer()\n",
    "    print(\"Done {} in {}s\".format(run_name, toc - tic))\n"
   ]
  },
  {
   "cell_type": "code",
   "execution_count": null,
   "id": "4789fd13-0f9d-4859-832e-8c7ca7dd739a",
   "metadata": {},
   "outputs": [],
   "source": [
    "stats = pd.DataFrame(stats)"
   ]
  },
  {
   "cell_type": "code",
   "execution_count": null,
   "id": "03fefeaf-adcd-4640-b1e9-00525777e779",
   "metadata": {},
   "outputs": [],
   "source": [
    "pickle.dump(\n",
    "    stats,\n",
    "    open(os.path.join(\"/home/chanb/src/simple_icl/cc_utils/agg_stats\", \"{}.pkl\".format(variant_name)), \"wb\")\n",
    ")"
   ]
  },
  {
   "cell_type": "code",
   "execution_count": null,
   "id": "87a0369a-d1d9-4e2a-a968-b34bd1779db1",
   "metadata": {},
   "outputs": [],
   "source": [
    "stats"
   ]
  },
  {
   "cell_type": "code",
   "execution_count": null,
   "id": "91013be7-63d7-4000-9c25-823707b0147c",
   "metadata": {},
   "outputs": [],
   "source": [
    "curr_stats = pd.DataFrame(stats[\"pretrain-sample_high_prob_class_only-start_pos_0\"].tolist())"
   ]
  },
  {
   "cell_type": "code",
   "execution_count": null,
   "id": "078dc406-f421-4dad-a8bf-f46859eb2d38",
   "metadata": {},
   "outputs": [],
   "source": [
    "curr_stats"
   ]
  },
  {
   "cell_type": "code",
   "execution_count": null,
   "id": "8103cd89-ef64-4fc4-bdb5-d95385a7196c",
   "metadata": {},
   "outputs": [],
   "source": [
    "curr_stats[\"accuracy\"]"
   ]
  },
  {
   "cell_type": "code",
   "execution_count": null,
   "id": "a9b12d67-35f6-4898-b35d-b6e50d655141",
   "metadata": {},
   "outputs": [],
   "source": []
  }
 ],
 "metadata": {
  "kernelspec": {
   "display_name": "Python 3.10 Kernel for ICL",
   "language": "python",
   "name": "simple_icl_kernel"
  },
  "language_info": {
   "codemirror_mode": {
    "name": "ipython",
    "version": 3
   },
   "file_extension": ".py",
   "mimetype": "text/x-python",
   "name": "python",
   "nbconvert_exporter": "python",
   "pygments_lexer": "ipython3",
   "version": "3.10.2"
  }
 },
 "nbformat": 4,
 "nbformat_minor": 5
}
