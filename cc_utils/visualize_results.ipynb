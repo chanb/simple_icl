{
 "cells": [
  {
   "cell_type": "code",
   "execution_count": 1,
   "id": "611aa6db-9102-41d8-a575-6da09450a2a2",
   "metadata": {},
   "outputs": [],
   "source": [
    "import _pickle as pickle\n",
    "import matplotlib.pyplot as plt\n",
    "import numpy as np\n",
    "import os\n",
    "import timeit"
   ]
  },
  {
   "cell_type": "code",
   "execution_count": 2,
   "id": "d1b7a68a-60d0-4758-b3f9-b5ef665b2722",
   "metadata": {},
   "outputs": [],
   "source": [
    "map_eval_name = {\n",
    "    \"pretrain-sample_high_prob_class_only-start_pos_0\": \"Condition on High Frequency\",\n",
    "    \"pretrain-sample_low_prob_class_only-start_pos_0\": \"Condition on Low Frequency\",\n",
    "    \"pretrain-sample_high_prob_class_only-start_pos_0-flip_label\": \"Condition on High Frequency\",\n",
    "    \"pretrain-sample_low_prob_class_only-start_pos_0-flip_label\": \"Condition on Low Frequency\",\n",
    "    \n",
    "    \"pretrain-sample_high_prob_class_only-start_pos_1\": \"Condition on High Frequency\",\n",
    "    \"pretrain-sample_low_prob_class_only-start_pos_1\": \"Condition on Low Frequency\",\n",
    "    \"pretrain-sample_high_prob_class_only-start_pos_1-flip_label\": \"Condition on High Frequency\",\n",
    "    \"pretrain-sample_low_prob_class_only-start_pos_1-flip_label\": \"Condition on Low Frequency\",\n",
    "    \n",
    "    \"pretrain-sample_high_prob_class_only-start_pos_7\": \"Condition on High Frequency\",\n",
    "    \"pretrain-sample_low_prob_class_only-start_pos_7\": \"Condition on Low Frequency\",\n",
    "    \"pretrain-sample_high_prob_class_only-start_pos_7-flip_label\": \"Condition on High Frequency\",\n",
    "    \"pretrain-sample_low_prob_class_only-start_pos_7-flip_label\": \"Condition on Low Frequency\",\n",
    "}\n",
    "\n",
    "stats_keys = [\n",
    "    \"accuracy\",\n",
    "    \"p_iwl\",\n",
    "    \"diff last context\",\n",
    "]"
   ]
  },
  {
   "cell_type": "code",
   "execution_count": 3,
   "id": "4e5fe6a4-d543-4e4e-9857-94bb492adc70",
   "metadata": {},
   "outputs": [],
   "source": [
    "# variant_name = \"simple_icl-default\"\n",
    "# prefixes = [\"high_prob_0.5\", \"high_prob_0.99\"]\n",
    "\n",
    "variant_name = \"simple_icl-g-high_prob_0.99\"\n",
    "prefixes = [\"ground_truth_prob_0.0\", \"ground_truth_prob_0.5\", \"ground_truth_prob_0.75\", \"ground_truth_prob_0.9\"]\n",
    "\n",
    "\n",
    "results_dir = \"/home/chanb/scratch/simple_icl/results/{}\".format(variant_name)\n",
    "eval_namess = [\n",
    "    [\n",
    "        \"pretrain-sample_high_prob_class_only-start_pos_0\",\n",
    "        \"pretrain-sample_low_prob_class_only-start_pos_0\",\n",
    "    ],\n",
    "    [\n",
    "        \"pretrain-sample_high_prob_class_only-start_pos_0-flip_label\",\n",
    "        \"pretrain-sample_low_prob_class_only-start_pos_0-flip_label\",\n",
    "    ],\n",
    "    [\n",
    "        \"pretrain-sample_high_prob_class_only-start_pos_1\",\n",
    "        \"pretrain-sample_low_prob_class_only-start_pos_1\",\n",
    "    ],\n",
    "    [\n",
    "        \"pretrain-sample_high_prob_class_only-start_pos_1-flip_label\",\n",
    "        \"pretrain-sample_low_prob_class_only-start_pos_1-flip_label\",\n",
    "    ],\n",
    "    [\n",
    "        \"pretrain-sample_high_prob_class_only-start_pos_7\",\n",
    "        \"pretrain-sample_low_prob_class_only-start_pos_7\",\n",
    "    ],\n",
    "    [\n",
    "        \"pretrain-sample_high_prob_class_only-start_pos_7-flip_label\",\n",
    "        \"pretrain-sample_low_prob_class_only-start_pos_7-flip_label\",\n",
    "    ],\n",
    "]\n",
    "plot_names = [\n",
    "    \"iwl\",\n",
    "    \"iwl-flip_label\",\n",
    "    \"icl-last_context\",\n",
    "    \"icl-last_context-flip_label\",\n",
    "    \"icl-except_first_context\",\n",
    "    \"icl-except_first_context-flip_label\",\n",
    "]\n",
    "plot_titles = [\n",
    "    \"In-weight Evaluation\",\n",
    "    \"In-weight Evaluation with Flipped Label\",\n",
    "    \"In-context Evaluation with Last Context\",\n",
    "    \"In-context Evaluation with Last Context + Flipped Label\",\n",
    "    \"In-context Evaluation with Contexts but First\",\n",
    "    \"In-context Evaluation with Contexts but First + Flipped Label\",\n",
    "]"
   ]
  },
  {
   "cell_type": "code",
   "execution_count": null,
   "id": "20cf71d4-8e3a-4733-bd0c-4848c06b6cb9",
   "metadata": {
    "tags": []
   },
   "outputs": [
    {
     "name": "stdout",
     "output_type": "stream",
     "text": [
      "Done ground_truth_prob_0.0 pretrain-sample_low_prob_class_only-start_pos_0 in 98.3193833399564s\n",
      "Done ground_truth_prob_0.0 pretrain-sample_low_prob_class_only-start_pos_0-flip_label in 92.18565797200426s\n",
      "Done ground_truth_prob_0.0 pretrain-sample_low_prob_class_only-start_pos_1 in 92.24864241096657s\n",
      "Done ground_truth_prob_0.0 pretrain-sample_low_prob_class_only-start_pos_1-flip_label in 92.05579636094626s\n",
      "Done ground_truth_prob_0.0 pretrain-sample_low_prob_class_only-start_pos_7 in 90.76008329202887s\n",
      "Done ground_truth_prob_0.0 pretrain-sample_low_prob_class_only-start_pos_7-flip_label in 91.16979015001561s\n",
      "Done ground_truth_prob_0.5 pretrain-sample_low_prob_class_only-start_pos_0 in 93.50471578491852s\n",
      "Done ground_truth_prob_0.5 pretrain-sample_low_prob_class_only-start_pos_0-flip_label in 91.37264405505266s\n",
      "Done ground_truth_prob_0.5 pretrain-sample_low_prob_class_only-start_pos_1 in 91.10508855199441s\n",
      "Done ground_truth_prob_0.5 pretrain-sample_low_prob_class_only-start_pos_1-flip_label in 91.75921050598845s\n",
      "Done ground_truth_prob_0.5 pretrain-sample_low_prob_class_only-start_pos_7 in 91.3843685729662s\n",
      "Done ground_truth_prob_0.5 pretrain-sample_low_prob_class_only-start_pos_7-flip_label in 91.55931729800068s\n",
      "Done ground_truth_prob_0.75 pretrain-sample_low_prob_class_only-start_pos_0 in 94.71481368294917s\n",
      "Done ground_truth_prob_0.75 pretrain-sample_low_prob_class_only-start_pos_0-flip_label in 90.35196638701018s\n",
      "Done ground_truth_prob_0.75 pretrain-sample_low_prob_class_only-start_pos_1 in 90.1793094460154s\n"
     ]
    }
   ],
   "source": [
    "for prefix in prefixes:\n",
    "    run_names = [os.path.join(results_dir, run_name) for run_name in os.listdir(results_dir) if run_name.startswith(prefix)]\n",
    "\n",
    "    for eval_names, plot_name, plot_title in zip(eval_namess, plot_names, plot_titles):\n",
    "        tic = timeit.default_timer()\n",
    "        stats = dict()\n",
    "        for run_i, run_name in enumerate(run_names):\n",
    "            data = pickle.load(open(os.path.join(run_name, \"evaluation.pkl\"), \"rb\"))\n",
    "            for eval_name in eval_names:\n",
    "                stats.setdefault(eval_name, dict())\n",
    "                for stats_key in stats_keys:\n",
    "                    stats[eval_name].setdefault(stats_key, np.zeros((len(run_names), len(data[\"checkpoint_steps\"]))))\n",
    "                    stats[eval_name][stats_key][run_i] = data[\"stats\"][eval_name][stats_key]\n",
    "\n",
    "        agg_stats = dict()\n",
    "        for eval_name in stats:\n",
    "            agg_stats.setdefault(eval_name, dict())\n",
    "            for stats_key in stats[eval_name]:\n",
    "                agg_stats[eval_name][stats_key] = (\n",
    "                    np.mean(stats[eval_name][stats_key], axis=0),\n",
    "                    np.std(stats[eval_name][stats_key], axis=0),\n",
    "                )\n",
    "\n",
    "        fig, axes = plt.subplots(1, len(eval_names), figsize=(5 * len(eval_names), 5))\n",
    "\n",
    "        for eval_i, eval_name in enumerate(eval_names):\n",
    "            ax = axes[eval_i]\n",
    "            ax.plot(\n",
    "                data[\"checkpoint_steps\"],\n",
    "                np.array(agg_stats[eval_name][\"accuracy\"][0]) / 100.0,\n",
    "                label=\"Accuracy\" if eval_i == 0 else \"\",\n",
    "                linewidth=3,\n",
    "                c=\"red\",\n",
    "                alpha=0.7,\n",
    "            )\n",
    "            ax.plot(\n",
    "                data[\"checkpoint_steps\"],\n",
    "                agg_stats[eval_name][\"p_iwl\"][0],\n",
    "                label=\"$\\\\alpha(x)$\" if eval_i == 0 else \"\",\n",
    "                linestyle=\"--\",\n",
    "                c=\"black\",\n",
    "                alpha=0.3\n",
    "            )\n",
    "            ax.plot(\n",
    "                data[\"checkpoint_steps\"],\n",
    "                data[\"stats\"][eval_name][\"diff last context\"],\n",
    "                label=\"% Diff. Last Context.\" if eval_i == 0 else \"\",\n",
    "                linestyle=\"-.\",\n",
    "                c=\"black\",\n",
    "                alpha=0.3\n",
    "            )\n",
    "            ax.set_ylim(-0.1, 1.1)\n",
    "            ax.set_title(map_eval_name[eval_name])\n",
    "\n",
    "        fig.supylabel(\"Accuracy/Prob.\")\n",
    "        fig.supxlabel(\"Gradient Steps\")\n",
    "        fig.suptitle(plot_title)\n",
    "        fig.legend(\n",
    "            bbox_to_anchor=(0.0, 1.0, 1.0, 0.0),\n",
    "            loc=\"lower center\",\n",
    "            ncols=5,\n",
    "            borderaxespad=0.0,\n",
    "            frameon=True,\n",
    "            fontsize=\"8\", \n",
    "        )\n",
    "\n",
    "        plt.savefig(\n",
    "            os.path.join(\"/home/chanb/src/simple_icl/cc_utils/plots\", \"{}-{}-{}.png\".format(variant_name, prefix, plot_name)),\n",
    "            format=\"png\",\n",
    "            bbox_inches=\"tight\",\n",
    "            dpi=600,\n",
    "        )\n",
    "        toc = timeit.default_timer()\n",
    "        print(\"Done {} {} in {}s\".format(prefix, eval_name, toc - tic))"
   ]
  },
  {
   "cell_type": "code",
   "execution_count": null,
   "id": "c6a20734-d011-4972-bb35-c5ab1c2525ca",
   "metadata": {},
   "outputs": [],
   "source": [
    "assert 0"
   ]
  },
  {
   "cell_type": "code",
   "execution_count": null,
   "id": "30428f0f-9685-4fb6-8c2d-461ac6e51aaa",
   "metadata": {},
   "outputs": [],
   "source": [
    "# TODO: Check P(g(x) = 0) = 0 with ICL flip label, see if we get 50/50\n",
    "prefix = \"ground_truth_prob_0.0\"\n",
    "eval_names = [\n",
    "    \"pretrain-sample_high_prob_class_only-start_pos_1-flip_label\",\n",
    "    \"pretrain-sample_low_prob_class_only-start_pos_1-flip_label\",\n",
    "]"
   ]
  },
  {
   "cell_type": "code",
   "execution_count": null,
   "id": "b950fd38-f1a1-4705-aac3-5b6702f8ce42",
   "metadata": {},
   "outputs": [],
   "source": [
    "run_names = [os.path.join(results_dir, run_name) for run_name in os.listdir(results_dir) if run_name.startswith(prefix)]"
   ]
  },
  {
   "cell_type": "code",
   "execution_count": null,
   "id": "3b97e4fb-316f-471b-9e93-e0b5c99b9fdb",
   "metadata": {},
   "outputs": [],
   "source": [
    "data[\"stats\"][eval_name].keys()"
   ]
  },
  {
   "cell_type": "code",
   "execution_count": null,
   "id": "c62edca4-679a-4ca6-b90e-234e34fe6cde",
   "metadata": {},
   "outputs": [],
   "source": [
    "import jax"
   ]
  },
  {
   "cell_type": "code",
   "execution_count": null,
   "id": "7e627d2a-8544-459c-b970-959b0c389591",
   "metadata": {},
   "outputs": [],
   "source": [
    "eval_name"
   ]
  },
  {
   "cell_type": "code",
   "execution_count": null,
   "id": "6eb29dcf-fe25-4f10-87c6-b4e00e80b62b",
   "metadata": {},
   "outputs": [],
   "source": [
    "jax.nn.softmax(data[\"stats\"][eval_name][\"similarity\"][0] / 0.1)"
   ]
  },
  {
   "cell_type": "code",
   "execution_count": null,
   "id": "2100ae9c-9163-4910-bd39-bf220f9ebb7f",
   "metadata": {},
   "outputs": [],
   "source": [
    "len(data[\"stats\"][eval_name][\"ic_pred\"])"
   ]
  },
  {
   "cell_type": "code",
   "execution_count": null,
   "id": "bbd90fde-b37d-4281-9ff6-7bd815e75d84",
   "metadata": {},
   "outputs": [],
   "source": []
  },
  {
   "cell_type": "code",
   "execution_count": null,
   "id": "391965c7-a0aa-4422-9b4b-e1eec9997da3",
   "metadata": {},
   "outputs": [],
   "source": [
    "data[\"stats\"][eval_name][\"ic_pred\"][0], data[\"stats\"][eval_name][\"iw_pred\"][0], data[\"stats\"][eval_name][\"p_iwl\"][0]"
   ]
  },
  {
   "cell_type": "code",
   "execution_count": null,
   "id": "eba72607-6a02-4337-8571-aecd9e5c4d02",
   "metadata": {},
   "outputs": [],
   "source": [
    "stats = dict()\n",
    "for run_i, run_name in enumerate(run_names):\n",
    "    data = pickle.load(open(os.path.join(run_name, \"evaluation.pkl\"), \"rb\"))\n",
    "    for eval_name in eval_names:\n",
    "        stats.setdefault(eval_name, dict())\n",
    "        for stats_key in stats_keys:\n",
    "            stats[eval_name].setdefault(stats_key, np.zeros((len(run_names), len(data[\"checkpoint_steps\"]))))\n",
    "            stats[eval_name][stats_key][run_i] = data[\"stats\"][eval_name][stats_key]\n",
    "\n",
    "agg_stats = dict()\n",
    "for eval_name in stats:\n",
    "    agg_stats.setdefault(eval_name, dict())\n",
    "    for stats_key in stats[eval_name]:\n",
    "        agg_stats[eval_name][stats_key] = (\n",
    "            np.mean(stats[eval_name][stats_key], axis=0),\n",
    "            np.std(stats[eval_name][stats_key], axis=0),\n",
    "        )"
   ]
  },
  {
   "cell_type": "code",
   "execution_count": null,
   "id": "8cc7c0dd-8b19-4ba7-9a24-a22536d7d18b",
   "metadata": {},
   "outputs": [],
   "source": [
    "agg_stats"
   ]
  },
  {
   "cell_type": "code",
   "execution_count": null,
   "id": "f139ae1a-c82a-454d-b8fb-8e33bbcaa86f",
   "metadata": {},
   "outputs": [],
   "source": [
    "fig, axes = plt.subplots(1, len(eval_names), figsize=(5 * len(eval_names), 5))\n",
    "\n",
    "for eval_i, eval_name in enumerate(eval_names):\n",
    "    ax = axes[eval_i]\n",
    "    ax.plot(\n",
    "        data[\"checkpoint_steps\"],\n",
    "        np.array(agg_stats[eval_name][\"accuracy\"][0]) / 100.0,\n",
    "        label=\"Accuracy\" if eval_i == 0 else \"\",\n",
    "        linewidth=3,\n",
    "        c=\"red\",\n",
    "        alpha=0.7,\n",
    "    )\n",
    "    ax.plot(\n",
    "        data[\"checkpoint_steps\"],\n",
    "        agg_stats[eval_name][\"p_iwl\"][0],\n",
    "        label=\"$\\\\alpha(x)$\" if eval_i == 0 else \"\",\n",
    "        linestyle=\"--\",\n",
    "        c=\"black\",\n",
    "        alpha=0.3\n",
    "    )\n",
    "    ax.plot(\n",
    "        data[\"checkpoint_steps\"],\n",
    "        data[\"stats\"][eval_name][\"diff last context\"],\n",
    "        label=\"% Diff. Last Context.\" if eval_i == 0 else \"\",\n",
    "        linestyle=\"-.\",\n",
    "        c=\"black\",\n",
    "        alpha=0.3\n",
    "    )\n",
    "    ax.set_ylim(-0.1, 1.1)\n",
    "    ax.set_title(map_eval_name[eval_name])\n",
    "\n",
    "fig.supylabel(\"Accuracy/Prob.\")\n",
    "fig.supxlabel(\"Gradient Steps\")\n",
    "fig.suptitle(plot_title)\n",
    "fig.legend(\n",
    "    bbox_to_anchor=(0.0, 1.0, 1.0, 0.0),\n",
    "    loc=\"lower center\",\n",
    "    ncols=5,\n",
    "    borderaxespad=0.0,\n",
    "    frameon=True,\n",
    "    fontsize=\"8\",\n",
    ")\n",
    "plt.show()"
   ]
  }
 ],
 "metadata": {
  "kernelspec": {
   "display_name": "Python 3.10 Kernel for ICL",
   "language": "python",
   "name": "simple_icl_kernel"
  },
  "language_info": {
   "codemirror_mode": {
    "name": "ipython",
    "version": 3
   },
   "file_extension": ".py",
   "mimetype": "text/x-python",
   "name": "python",
   "nbconvert_exporter": "python",
   "pygments_lexer": "ipython3",
   "version": "3.10.2"
  }
 },
 "nbformat": 4,
 "nbformat_minor": 5
}
