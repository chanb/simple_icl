{
 "cells": [
  {
   "cell_type": "code",
   "execution_count": null,
   "metadata": {},
   "outputs": [],
   "source": [
    "import sys\n",
    "\n",
    "sys.path.insert(0, \"..\")\n",
    "sys.path.insert(0, \"../src\")"
   ]
  },
  {
   "cell_type": "code",
   "execution_count": null,
   "metadata": {},
   "outputs": [],
   "source": [
    "import dill\n",
    "import jax.numpy as jnp\n",
    "import os\n",
    "\n",
    "from tqdm.notebook import tqdm\n",
    "\n",
    "from experiments.evaluation import get_eval_datasets\n",
    "from experiments.utils import *\n",
    "\n",
    "from src.constants import *\n",
    "from src.dataset import get_data_loader\n",
    "from src.models import SimpleICLModel, SimpleICLModelLearnedIWPredictor\n",
    "from src.utils import parse_dict, load_config, iterate_models, set_seed\n",
    "\n",
    "run_seed = 0\n",
    "set_seed(run_seed)"
   ]
  },
  {
   "cell_type": "code",
   "execution_count": null,
   "metadata": {},
   "outputs": [],
   "source": [
    "# learner_path = \"/Users/chanb/research/ualberta/simple_icl/experiments/results/simple_icl_model/seed_46-high_prob_0.5-08-28-24_19_06_10-f70cfe1c-05d3-4ac9-adb2-45174536cbf6\"\n",
    "learner_path = \"/home/chanb/scratch/simple_icl/results/simple_icl-g-high_prob_0.5/ground_truth_prob_0.0-seed_0-08-28-24_23_12_31-2f92ffd0-3338-486c-b2cb-370a0e0143ba/\"\n",
    "num_eval_samples = 1000\n",
    "batch_size = 100\n",
    "test_data_seed = 1000\n",
    "\n",
    "prefetched_data_path = \"eval_prefetched_data.dill\""
   ]
  },
  {
   "cell_type": "markdown",
   "metadata": {},
   "source": [
    "# Fetch Datasets"
   ]
  },
  {
   "cell_type": "code",
   "execution_count": null,
   "metadata": {},
   "outputs": [],
   "source": [
    "if os.path.isfile(prefetched_data_path):\n",
    "    prefetched_data = dill.load(open(prefetched_data_path, \"rb\"))\n",
    "else:\n",
    "    config_dict, config = load_config(learner_path)\n",
    "    config_dict[\"batch_size\"] = batch_size\n",
    "    config = parse_dict(config_dict)\n",
    "\n",
    "    context_len = config.dataset_kwargs.num_examples\n",
    "    fixed_length = True\n",
    "\n",
    "    datasets, dataset_configs = get_eval_datasets(\n",
    "        config_dict,\n",
    "        test_data_seed,\n",
    "        context_len,\n",
    "    )\n",
    "\n",
    "    train_data_loader, train_dataset = get_data_loader(\n",
    "        config,\n",
    "    )\n",
    "    datasets[\"pretraining\"] = (\n",
    "        train_data_loader,\n",
    "        train_dataset,\n",
    "    )\n",
    "    dataset_configs[\"pretraining\"] = config.dataset_kwargs\n",
    "\n",
    "    prefetched_data = {}\n",
    "    # for eval_name in tqdm(datasets, postfix=\"Prefetching data\"):\n",
    "    for eval_name in datasets:\n",
    "        data_loader, dataset = datasets[eval_name]\n",
    "        data_iter = iter(data_loader)\n",
    "        prefetched_data[eval_name] = dict(\n",
    "            samples=[next(data_iter) for _ in range(num_eval_samples // batch_size)],\n",
    "            dataset_output_dim=dataset.output_space.n,\n",
    "        )\n",
    "\n",
    "    dill.dump(prefetched_data, open(prefetched_data_path, \"wb\"))"
   ]
  },
  {
   "cell_type": "markdown",
   "metadata": {},
   "source": [
    "# Evaluation"
   ]
  },
  {
   "cell_type": "code",
   "execution_count": null,
   "metadata": {},
   "outputs": [],
   "source": [
    "model_iter = iterate_models(learner_path)\n",
    "for _ in range(20):\n",
    "    params, model, checkpoint_step = next(model_iter)\n",
    "eval_names = list(prefetched_data.keys())\n",
    "print(eval_names)"
   ]
  },
  {
   "cell_type": "code",
   "execution_count": null,
   "metadata": {},
   "outputs": [],
   "source": [
    "checkpoint_step"
   ]
  },
  {
   "cell_type": "code",
   "execution_count": null,
   "metadata": {},
   "outputs": [],
   "source": [
    "eval_name = eval_names[0]"
   ]
  },
  {
   "cell_type": "code",
   "execution_count": null,
   "metadata": {},
   "outputs": [],
   "source": [
    "from gymnasium import spaces\n",
    "import jax.random as jrandom\n",
    "import numpy as np\n",
    "\n",
    "model = SimpleICLModelLearnedIWPredictor(\"l2\")\n",
    "params = model.init(jrandom.PRNGKey(1), spaces.Box(-np.inf, np.inf, shape=(64,)), spaces.Discrete(2))"
   ]
  },
  {
   "cell_type": "code",
   "execution_count": null,
   "metadata": {},
   "outputs": [],
   "source": [
    "preds, labels, outputs, model_auxes = get_preds_labels(\n",
    "    model, {\"model\": params}, prefetched_data[eval_name], None\n",
    ")"
   ]
  },
  {
   "cell_type": "code",
   "execution_count": null,
   "metadata": {},
   "outputs": [],
   "source": [
    "preds.shape"
   ]
  },
  {
   "cell_type": "code",
   "execution_count": null,
   "metadata": {},
   "outputs": [],
   "source": [
    "model_auxes[\"h\"][0], model_auxes[\"p_iwl\"][0]"
   ]
  },
  {
   "cell_type": "code",
   "execution_count": null,
   "metadata": {},
   "outputs": [],
   "source": [
    "jnp.sum(\n",
    "    jax.nn.softmax(model_auxes[\"h\"][:100] / 0.1, axis=1) * prefetched_data[eval_name][\"samples\"][0][\"target\"][:, :-1],\n",
    "    axis=1,\n",
    ")[0]"
   ]
  },
  {
   "cell_type": "code",
   "execution_count": null,
   "metadata": {},
   "outputs": [],
   "source": [
    "context_targets = prefetched_data[eval_name][\"samples\"][0][\"target\"][:, :-1]\n",
    "flip_labels = prefetched_data[eval_name][\"samples\"][0][\"flip_label\"][:, None]"
   ]
  },
  {
   "cell_type": "code",
   "execution_count": null,
   "metadata": {},
   "outputs": [],
   "source": [
    "context_targets[0]"
   ]
  },
  {
   "cell_type": "code",
   "execution_count": null,
   "metadata": {},
   "outputs": [],
   "source": [
    "np.concatenate((model_auxes[\"iw_pred\"], model_auxes[\"ic_pred\"]), axis=-1)[0]"
   ]
  },
  {
   "cell_type": "code",
   "execution_count": null,
   "metadata": {},
   "outputs": [],
   "source": [
    "ground_truth_prob = 1.0\n",
    "jnp.clip(\n",
    "    jnp.full_like(\n",
    "        np.eye(2)[labels], fill_value=((1 - ground_truth_prob) / (np.eye(2)[labels].shape[-1] - 1))\n",
    "    )\n",
    "    + np.eye(2)[labels],\n",
    "    a_min=0.0,\n",
    "    a_max=ground_truth_prob,\n",
    ")"
   ]
  },
  {
   "cell_type": "code",
   "execution_count": null,
   "metadata": {},
   "outputs": [],
   "source": [
    "model_auxes[\"iw_pred\"] - np.eye(2)[labels]"
   ]
  },
  {
   "cell_type": "code",
   "execution_count": null,
   "metadata": {},
   "outputs": [],
   "source": [
    "model_auxes.keys()"
   ]
  },
  {
   "cell_type": "code",
   "execution_count": null,
   "metadata": {},
   "outputs": [],
   "source": [
    "model_auxes[\"ic_pred\"]"
   ]
  },
  {
   "cell_type": "code",
   "execution_count": null,
   "metadata": {},
   "outputs": [],
   "source": [
    "model_auxes[\"h\"][..., 0].max(), model_auxes[\"h\"][..., 0].min()"
   ]
  },
  {
   "cell_type": "code",
   "execution_count": null,
   "metadata": {},
   "outputs": [],
   "source": [
    "prefetched_data[eval_name][\"samples\"][0][\"target\"][43]"
   ]
  },
  {
   "cell_type": "code",
   "execution_count": null,
   "metadata": {},
   "outputs": [],
   "source": [
    "np.argmax(prefetched_data[eval_name][\"samples\"][2][\"target\"][:, -2], axis=-1)"
   ]
  },
  {
   "cell_type": "code",
   "execution_count": null,
   "metadata": {},
   "outputs": [],
   "source": [
    "model_auxes[\"ic_pred\"]"
   ]
  },
  {
   "cell_type": "code",
   "execution_count": null,
   "metadata": {},
   "outputs": [],
   "source": [
    "model_auxes[\"h\"][0, :, 0]"
   ]
  },
  {
   "cell_type": "code",
   "execution_count": null,
   "metadata": {},
   "outputs": [],
   "source": [
    "prefetched_data[eval_name][\"samples\"][0][\"example\"][0].shape"
   ]
  },
  {
   "cell_type": "code",
   "execution_count": null,
   "metadata": {},
   "outputs": [],
   "source": [
    "context_inputs = prefetched_data[eval_name][\"samples\"][0][\"example\"][0, :-1]\n",
    "queries = prefetched_data[eval_name][\"samples\"][0][\"example\"][0, [-1]]"
   ]
  },
  {
   "cell_type": "code",
   "execution_count": null,
   "metadata": {},
   "outputs": [],
   "source": [
    "jnp.exp(\n",
    "    -jnp.sum((context_inputs - queries) ** 2, axis=-1, keepdims=True) / 1e-5\n",
    ")"
   ]
  },
  {
   "cell_type": "code",
   "execution_count": null,
   "metadata": {},
   "outputs": [],
   "source": [
    "jnp.sum((context_inputs - queries) ** 2, axis=-1, keepdims=True)"
   ]
  },
  {
   "cell_type": "code",
   "execution_count": null,
   "metadata": {},
   "outputs": [],
   "source": [
    "outputs"
   ]
  },
  {
   "cell_type": "code",
   "execution_count": null,
   "metadata": {},
   "outputs": [],
   "source": [
    "(1 - model_auxes[\"p_iwl\"]) * model_auxes[\"ic_pred\"] + model_auxes[\"p_iwl\"] * model_auxes[\"iw_pred\"]"
   ]
  },
  {
   "cell_type": "code",
   "execution_count": null,
   "metadata": {},
   "outputs": [],
   "source": [
    "model_auxes[\"p_iwl\"]"
   ]
  },
  {
   "cell_type": "code",
   "execution_count": null,
   "metadata": {},
   "outputs": [],
   "source": [
    "model_auxes[\"ic_pred\"]"
   ]
  },
  {
   "cell_type": "code",
   "execution_count": null,
   "metadata": {},
   "outputs": [],
   "source": [
    "model_auxes[\"iw_pred\"]"
   ]
  },
  {
   "cell_type": "code",
   "execution_count": null,
   "metadata": {},
   "outputs": [],
   "source": [
    "last_context_labels = []\n",
    "for samples in prefetched_data[eval_name][\"samples\"]:\n",
    "    last_context_labels.append(\n",
    "        np.argmax(samples[\"target\"][:, -2], axis=-1)\n",
    "    )"
   ]
  },
  {
   "cell_type": "code",
   "execution_count": null,
   "metadata": {},
   "outputs": [],
   "source": [
    "np.mean(np.concatenate(last_context_labels))"
   ]
  },
  {
   "cell_type": "code",
   "execution_count": null,
   "metadata": {},
   "outputs": [],
   "source": [
    "np.mean(preds)"
   ]
  },
  {
   "cell_type": "code",
   "execution_count": null,
   "metadata": {},
   "outputs": [],
   "source": [
    "mismatch_inds = np.where(preds != np.concatenate(last_context_labels))"
   ]
  },
  {
   "cell_type": "code",
   "execution_count": null,
   "metadata": {},
   "outputs": [],
   "source": [
    "np.concatenate(last_context_labels)[mismatch_inds]"
   ]
  },
  {
   "cell_type": "code",
   "execution_count": null,
   "metadata": {},
   "outputs": [],
   "source": [
    "model_outs = (1 - model_auxes[\"p_iwl\"]) * model_auxes[\"ic_pred\"] + model_auxes[\"p_iwl\"] * model_auxes[\"iw_pred\"]"
   ]
  },
  {
   "cell_type": "code",
   "execution_count": null,
   "metadata": {},
   "outputs": [],
   "source": [
    "preds[mismatch_inds].shape"
   ]
  },
  {
   "cell_type": "code",
   "execution_count": null,
   "metadata": {},
   "outputs": [],
   "source": [
    "mismatch_inds = np.where(preds != 0)"
   ]
  },
  {
   "cell_type": "code",
   "execution_count": null,
   "metadata": {},
   "outputs": [],
   "source": [
    "len(model_auxes[\"p_iwl\"])"
   ]
  },
  {
   "cell_type": "code",
   "execution_count": null,
   "metadata": {},
   "outputs": [],
   "source": [
    "np.mean(model_auxes[\"p_iwl\"] >= 0.5)"
   ]
  },
  {
   "cell_type": "code",
   "execution_count": null,
   "metadata": {},
   "outputs": [],
   "source": [
    "np.concatenate((\n",
    "    model_auxes[\"p_iwl\"][mismatch_inds],\n",
    "    np.argmax(model_auxes[\"iw_pred\"][mismatch_inds], axis=-1, keepdims=True),\n",
    "    np.argmax(model_auxes[\"ic_pred\"][mismatch_inds], axis=-1, keepdims=True),\n",
    "    preds[mismatch_inds][:, None]\n",
    "    # np.argmax(model_outs[mismatch_inds], axis=-1, keepdims=True),\n",
    "    # model_outs[mismatch_inds],\n",
    "), axis=1)"
   ]
  },
  {
   "cell_type": "code",
   "execution_count": null,
   "metadata": {},
   "outputs": [],
   "source": [
    "np.argmax(model_auxes[\"iw_pred\"][mismatch_inds], axis=-1).shape"
   ]
  },
  {
   "cell_type": "code",
   "execution_count": null,
   "metadata": {},
   "outputs": [],
   "source": []
  }
 ],
 "metadata": {
  "kernelspec": {
   "display_name": "Python 3.10 Kernel for ICL",
   "language": "python",
   "name": "simple_icl_kernel"
  },
  "language_info": {
   "codemirror_mode": {
    "name": "ipython",
    "version": 3
   },
   "file_extension": ".py",
   "mimetype": "text/x-python",
   "name": "python",
   "nbconvert_exporter": "python",
   "pygments_lexer": "ipython3",
   "version": "3.10.2"
  }
 },
 "nbformat": 4,
 "nbformat_minor": 4
}
